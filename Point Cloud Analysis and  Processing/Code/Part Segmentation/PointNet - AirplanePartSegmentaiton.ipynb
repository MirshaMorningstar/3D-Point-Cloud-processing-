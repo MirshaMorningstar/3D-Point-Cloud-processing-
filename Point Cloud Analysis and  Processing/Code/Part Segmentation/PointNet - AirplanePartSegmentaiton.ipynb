{
  "cells": [
    {
      "cell_type": "code",
      "execution_count": null,
      "metadata": {
        "id": "0JoFpAqQEKrL"
      },
      "outputs": [],
      "source": [
        "import os\n",
        "import json\n",
        "import random\n",
        "import numpy as np\n",
        "import pandas as pd\n",
        "from tqdm import tqdm\n",
        "from glob import glob\n",
        "\n",
        "import tensorflow as tf  # For tf.data\n",
        "import keras\n",
        "from keras import layers\n",
        "\n",
        "import matplotlib.pyplot as plt\n",
        "\n",
        "\n",
        "from numba import jit, cuda"
      ]
    },
    {
      "cell_type": "code",
      "execution_count": null,
      "metadata": {
        "colab": {
          "base_uri": "https://localhost:8080/"
        },
        "id": "Mg-JUlbHESPG",
        "outputId": "31ee745f-611e-434b-d110-00ee0b93494f"
      },
      "outputs": [
        {
          "name": "stdout",
          "output_type": "stream",
          "text": [
            "{'Airplane': {'directory': '02691156', 'lables': ['wing', 'body', 'tail', 'engine'], 'colors': ['blue', 'green', 'red', 'pink']}, 'Bag': {'directory': '02773838', 'lables': ['handle', 'body'], 'colors': ['blue', 'green']}, 'Cap': {'directory': '02954340', 'lables': ['panels', 'peak'], 'colors': ['blue', 'green']}, 'Car': {'directory': '02958343', 'lables': ['wheel', 'hood', 'roof'], 'colors': ['blue', 'green', 'red']}, 'Chair': {'directory': '03001627', 'lables': ['leg', 'arm', 'back', 'seat'], 'colors': ['blue', 'green', 'red', 'pink']}, 'Earphone': {'directory': '03261776', 'lables': ['earphone', 'headband'], 'colors': ['blue', 'green']}, 'Guitar': {'directory': '03467517', 'lables': ['head', 'body', 'neck'], 'colors': ['blue', 'green', 'red']}, 'Knife': {'directory': '03624134', 'lables': ['handle', 'blade'], 'colors': ['blue', 'green']}, 'Lamp': {'directory': '03636649', 'lables': ['canopy', 'lampshade', 'base'], 'colors': ['blue', 'green', 'red']}, 'Laptop': {'directory': '03642806', 'lables': ['keyboard'], 'colors': ['blue']}, 'Motorbike': {'directory': '03790512', 'lables': ['wheel', 'handle', 'gas_tank', 'light', 'seat'], 'colors': ['blue', 'green', 'red', 'pink', 'yellow']}, 'Mug': {'directory': '03797390', 'lables': ['handle'], 'colors': ['blue']}, 'Pistol': {'directory': '03948459', 'lables': ['trigger_and_guard', 'handle', 'barrel'], 'colors': ['blue', 'green', 'red']}, 'Rocket': {'directory': '04099429', 'lables': ['nose', 'body', 'fin'], 'colors': ['blue', 'green', 'red']}, 'Skateboard': {'directory': '04225987', 'lables': ['wheel', 'deck'], 'colors': ['blue', 'green']}, 'Table': {'directory': '04379243', 'lables': ['leg', 'top'], 'colors': ['blue', 'green']}}\n"
          ]
        }
      ],
      "source": [
        "with open(\"/content/drive/MyDrive/Dataset/metadata.json\") as json_file:\n",
        "    metadata = json.load(json_file)\n",
        "\n",
        "print(metadata)"
      ]
    },
    {
      "cell_type": "code",
      "execution_count": null,
      "metadata": {
        "colab": {
          "base_uri": "https://localhost:8080/"
        },
        "id": "Z6-dFRkOFRFY",
        "outputId": "e0321c2a-e24b-4253-ccf2-6809ea3c7fd9"
      },
      "outputs": [
        {
          "name": "stdout",
          "output_type": "stream",
          "text": [
            "Drive already mounted at /content/drive; to attempt to forcibly remount, call drive.mount(\"/content/drive\", force_remount=True).\n"
          ]
        }
      ],
      "source": [
        "from google.colab import drive\n",
        "drive.mount('/content/drive')"
      ]
    },
    {
      "cell_type": "code",
      "execution_count": null,
      "metadata": {
        "id": "oZAlhgPdEdnw"
      },
      "outputs": [],
      "source": [
        "points_dir = \"/content/drive/MyDrive/Dataset/points\"\n",
        "labels_dir = \"/content/drive/MyDrive/Dataset/points_label\"\n",
        "LABELS = metadata[\"Airplane\"][\"lables\"]\n",
        "COLORS = metadata[\"Airplane\"][\"colors\"]\n",
        "\n",
        "VAL_SPLIT = 0.2\n",
        "NUM_SAMPLE_POINTS = 1024\n",
        "BATCH_SIZE = 32\n",
        "EPOCHS = 100\n",
        "INITIAL_LR = 1e-3"
      ]
    },
    {
      "cell_type": "code",
      "execution_count": null,
      "metadata": {
        "colab": {
          "base_uri": "https://localhost:8080/"
        },
        "id": "WFkYtEgfEdqV",
        "outputId": "6547493d-f71e-431e-ddc9-dbeb68b5fc45"
      },
      "outputs": [
        {
          "name": "stdout",
          "output_type": "stream",
          "text": [
            "['wing', 'body', 'tail', 'engine']\n",
            "['blue', 'green', 'red', 'pink']\n"
          ]
        }
      ],
      "source": [
        "print(LABELS)\n",
        "print(COLORS)"
      ]
    },
    {
      "cell_type": "code",
      "execution_count": null,
      "metadata": {
        "colab": {
          "base_uri": "https://localhost:8080/"
        },
        "id": "W3EvZ7bhH2EX",
        "outputId": "04345652-302e-4eb9-d0fe-6f04074d4ff1"
      },
      "outputs": [
        {
          "name": "stdout",
          "output_type": "stream",
          "text": [
            "Number of files in '/content/pointss': 811\n"
          ]
        }
      ],
      "source": [
        "import os\n",
        "\n",
        "def count_files_in_folder(folder_path):\n",
        "    try:\n",
        "        # List all files in the specified folder\n",
        "        files = os.listdir(folder_path)\n",
        "\n",
        "        # Count the number of files\n",
        "        num_files = len(files)\n",
        "\n",
        "        print(f\"Number of files in '{folder_path}': {num_files}\")\n",
        "\n",
        "    except FileNotFoundError:\n",
        "        print(f\"The specified folder '{folder_path}' does not exist.\")\n",
        "    except PermissionError:\n",
        "        print(f\"Permission error while accessing the folder '{folder_path}'.\")\n",
        "    except Exception as e:\n",
        "        print(f\"An error occurred: {e}\")\n",
        "\n",
        "# Specify the folder path\n",
        "folder_path = '/content/pointss'\n",
        "\n",
        "# Call the function to count files in the specified folder\n",
        "count_files_in_folder(folder_path)"
      ]
    },
    {
      "cell_type": "code",
      "execution_count": null,
      "metadata": {
        "colab": {
          "base_uri": "https://localhost:8080/"
        },
        "id": "SrPzygXmEdsv",
        "outputId": "9eaaa0d5-8e50-4d5e-c1e5-2bf7bc38006a"
      },
      "outputs": [
        {
          "name": "stderr",
          "output_type": "stream",
          "text": [
            "100%|██████████| 4045/4045 [1:33:31<00:00,  1.39s/it]\n"
          ]
        }
      ],
      "source": [
        "point_clouds, test_point_clouds = [], []\n",
        "point_cloud_labels, all_labels = [], []\n",
        "\n",
        "\n",
        "points_files = glob(os.path.join(points_dir, \"*.pts\"))\n",
        "\n",
        "for point_file in tqdm(points_files):\n",
        "    point_cloud = np.loadtxt(point_file)\n",
        "    if point_cloud.shape[0] < NUM_SAMPLE_POINTS:\n",
        "        continue\n",
        "\n",
        "    file_id = point_file.split(\"/\")[-1].split(\".\")[0]\n",
        "    label_data, num_labels = {}, 0\n",
        "    for label in LABELS:\n",
        "        label_file = os.path.join(labels_dir, label, file_id + \".seg\")\n",
        "        if os.path.exists(label_file):\n",
        "            label_data[label] = np.loadtxt(label_file).astype(\"float32\")\n",
        "            num_labels = len(label_data[label])\n",
        "\n",
        "    try:\n",
        "        label_map = [\"none\"] * num_labels\n",
        "        for label in LABELS:\n",
        "            for i, data in enumerate(label_data[label]):\n",
        "                label_map[i] = label if data == 1 else label_map[i]\n",
        "        label_data = [\n",
        "            LABELS.index(label) if label != \"none\" else len(LABELS)\n",
        "            for label in label_map\n",
        "        ]\n",
        "        label_data = keras.utils.to_categorical(label_data, num_classes=len(LABELS) + 1)\n",
        "\n",
        "        point_clouds.append(point_cloud)\n",
        "        point_cloud_labels.append(label_data)\n",
        "        all_labels.append(label_map)\n",
        "    except KeyError:\n",
        "        test_point_clouds.append(point_cloud)\n",
        "\n"
      ]
    },
    {
      "cell_type": "code",
      "execution_count": null,
      "metadata": {
        "colab": {
          "base_uri": "https://localhost:8080/"
        },
        "id": "z14iZSyIHE0b",
        "outputId": "4cd93164-1cb1-430b-d833-0cd7bda52dc3"
      },
      "outputs": [
        {
          "data": {
            "text/plain": [
              "3694"
            ]
          },
          "execution_count": 45,
          "metadata": {},
          "output_type": "execute_result"
        }
      ],
      "source": [
        "len(point_clouds)"
      ]
    },
    {
      "cell_type": "code",
      "execution_count": null,
      "metadata": {
        "colab": {
          "base_uri": "https://localhost:8080/"
        },
        "id": "m4SJBfWgEdvY",
        "outputId": "c00d2cf3-2c0c-4ce8-d3d9-b2d6693a1db1"
      },
      "outputs": [
        {
          "name": "stdout",
          "output_type": "stream",
          "text": [
            "point_clouds[3251].shape: (2617, 3)\n",
            "point_cloud_labels[3251].shape: (2617, 5)\n",
            "all_labels[3251][0]: none \tpoint_cloud_labels[3251][0]: [0. 0. 0. 0. 1.] \n",
            "\n",
            "all_labels[3251][1]: body \tpoint_cloud_labels[3251][1]: [0. 1. 0. 0. 0.] \n",
            "\n",
            "all_labels[3251][2]: body \tpoint_cloud_labels[3251][2]: [0. 1. 0. 0. 0.] \n",
            "\n",
            "all_labels[3251][3]: body \tpoint_cloud_labels[3251][3]: [0. 1. 0. 0. 0.] \n",
            "\n",
            "all_labels[3251][4]: none \tpoint_cloud_labels[3251][4]: [0. 0. 0. 0. 1.] \n",
            "\n",
            "point_clouds[3440].shape: (2617, 3)\n",
            "point_cloud_labels[3440].shape: (2617, 5)\n",
            "all_labels[3440][0]: engine \tpoint_cloud_labels[3440][0]: [0. 0. 0. 1. 0.] \n",
            "\n",
            "all_labels[3440][1]: body \tpoint_cloud_labels[3440][1]: [0. 1. 0. 0. 0.] \n",
            "\n",
            "all_labels[3440][2]: wing \tpoint_cloud_labels[3440][2]: [1. 0. 0. 0. 0.] \n",
            "\n",
            "all_labels[3440][3]: body \tpoint_cloud_labels[3440][3]: [0. 1. 0. 0. 0.] \n",
            "\n",
            "all_labels[3440][4]: tail \tpoint_cloud_labels[3440][4]: [0. 0. 1. 0. 0.] \n",
            "\n",
            "point_clouds[492].shape: (2617, 3)\n",
            "point_cloud_labels[492].shape: (2617, 5)\n",
            "all_labels[492][0]: body \tpoint_cloud_labels[492][0]: [0. 1. 0. 0. 0.] \n",
            "\n",
            "all_labels[492][1]: tail \tpoint_cloud_labels[492][1]: [0. 0. 1. 0. 0.] \n",
            "\n",
            "all_labels[492][2]: tail \tpoint_cloud_labels[492][2]: [0. 0. 1. 0. 0.] \n",
            "\n",
            "all_labels[492][3]: tail \tpoint_cloud_labels[492][3]: [0. 0. 1. 0. 0.] \n",
            "\n",
            "all_labels[492][4]: none \tpoint_cloud_labels[492][4]: [0. 0. 0. 0. 1.] \n",
            "\n",
            "point_clouds[2571].shape: (2617, 3)\n",
            "point_cloud_labels[2571].shape: (2617, 5)\n",
            "all_labels[2571][0]: body \tpoint_cloud_labels[2571][0]: [0. 1. 0. 0. 0.] \n",
            "\n",
            "all_labels[2571][1]: wing \tpoint_cloud_labels[2571][1]: [1. 0. 0. 0. 0.] \n",
            "\n",
            "all_labels[2571][2]: none \tpoint_cloud_labels[2571][2]: [0. 0. 0. 0. 1.] \n",
            "\n",
            "all_labels[2571][3]: none \tpoint_cloud_labels[2571][3]: [0. 0. 0. 0. 1.] \n",
            "\n",
            "all_labels[2571][4]: wing \tpoint_cloud_labels[2571][4]: [1. 0. 0. 0. 0.] \n",
            "\n",
            "point_clouds[2163].shape: (2617, 3)\n",
            "point_cloud_labels[2163].shape: (2617, 5)\n",
            "all_labels[2163][0]: body \tpoint_cloud_labels[2163][0]: [0. 1. 0. 0. 0.] \n",
            "\n",
            "all_labels[2163][1]: body \tpoint_cloud_labels[2163][1]: [0. 1. 0. 0. 0.] \n",
            "\n",
            "all_labels[2163][2]: body \tpoint_cloud_labels[2163][2]: [0. 1. 0. 0. 0.] \n",
            "\n",
            "all_labels[2163][3]: body \tpoint_cloud_labels[2163][3]: [0. 1. 0. 0. 0.] \n",
            "\n",
            "all_labels[2163][4]: body \tpoint_cloud_labels[2163][4]: [0. 1. 0. 0. 0.] \n",
            "\n"
          ]
        }
      ],
      "source": [
        "for _ in range(5):\n",
        "    i = random.randint(0, len(point_clouds) - 1)\n",
        "    print(f\"point_clouds[{i}].shape:\", point_clouds[0].shape)\n",
        "    print(f\"point_cloud_labels[{i}].shape:\", point_cloud_labels[0].shape)\n",
        "    for j in range(5):\n",
        "        print(\n",
        "            f\"all_labels[{i}][{j}]:\",\n",
        "            all_labels[i][j],\n",
        "            f\"\\tpoint_cloud_labels[{i}][{j}]:\",\n",
        "            point_cloud_labels[i][j],\n",
        "            \"\\n\",\n",
        "        )"
      ]
    },
    {
      "cell_type": "code",
      "execution_count": null,
      "metadata": {
        "id": "tyAHzA7vEdxu"
      },
      "outputs": [],
      "source": [
        "def visualize_data(point_cloud, labels):\n",
        "    df = pd.DataFrame(\n",
        "        data={\n",
        "            \"x\": point_cloud[:, 0],\n",
        "            \"y\": point_cloud[:, 1],\n",
        "            \"z\": point_cloud[:, 2],\n",
        "            \"label\": labels,\n",
        "        }\n",
        "    )\n",
        "    fig = plt.figure(figsize=(15, 10))\n",
        "    ax = plt.axes(projection=\"3d\")\n",
        "    for index, label in enumerate(LABELS):\n",
        "        c_df = df[df[\"label\"] == label]\n",
        "        try:\n",
        "            ax.scatter(\n",
        "                c_df[\"x\"], c_df[\"y\"], c_df[\"z\"], label=label, alpha=0.5, c=COLORS[index]\n",
        "            )\n",
        "        except IndexError:\n",
        "            pass\n",
        "    ax.legend()\n",
        "    plt.show()\n"
      ]
    },
    {
      "cell_type": "code",
      "execution_count": null,
      "metadata": {
        "colab": {
          "base_uri": "https://localhost:8080/"
        },
        "id": "wGGipaJtEd0l",
        "outputId": "d1f1b24a-efe4-4dee-9283-00201283837a"
      },
      "outputs": [
        {
          "name": "stderr",
          "output_type": "stream",
          "text": [
            "100%|██████████| 3694/3694 [00:09<00:00, 386.13it/s]\n"
          ]
        }
      ],
      "source": [
        "for index in tqdm(range(len(point_clouds))):\n",
        "    current_point_cloud = point_clouds[index]\n",
        "    current_label_cloud = point_cloud_labels[index]\n",
        "    current_labels = all_labels[index]\n",
        "    num_points = len(current_point_cloud)\n",
        "    # Randomly sampling respective indices.\n",
        "    sampled_indices = random.sample(list(range(num_points)), NUM_SAMPLE_POINTS)\n",
        "    # Sampling points corresponding to sampled indices.\n",
        "    sampled_point_cloud = np.array([current_point_cloud[i] for i in sampled_indices])\n",
        "    # Sampling corresponding one-hot encoded labels.\n",
        "    sampled_label_cloud = np.array([current_label_cloud[i] for i in sampled_indices])\n",
        "    # Sampling corresponding labels for visualization.\n",
        "    sampled_labels = np.array([current_labels[i] for i in sampled_indices])\n",
        "    # Normalizing sampled point cloud.\n",
        "    norm_point_cloud = sampled_point_cloud - np.mean(sampled_point_cloud, axis=0)\n",
        "    norm_point_cloud /= np.max(np.linalg.norm(norm_point_cloud, axis=1))\n",
        "    point_clouds[index] = norm_point_cloud\n",
        "    point_cloud_labels[index] = sampled_label_cloud\n",
        "    all_labels[index] = sampled_labels"
      ]
    },
    {
      "cell_type": "code",
      "execution_count": null,
      "metadata": {
        "colab": {
          "base_uri": "https://localhost:8080/"
        },
        "id": "15WKtM9RzC5p",
        "outputId": "cfaf35eb-3851-4caf-8869-49b68c028118"
      },
      "outputs": [
        {
          "data": {
            "text/plain": [
              "2571"
            ]
          },
          "execution_count": 50,
          "metadata": {},
          "output_type": "execute_result"
        }
      ],
      "source": [
        "len(current_label_cloud)"
      ]
    },
    {
      "cell_type": "code",
      "execution_count": null,
      "metadata": {
        "colab": {
          "base_uri": "https://localhost:8080/"
        },
        "id": "7-_6JJ6_Ed3I",
        "outputId": "ba20efd7-22ff-4a49-b892-64f40807b88d"
      },
      "outputs": [
        {
          "name": "stdout",
          "output_type": "stream",
          "text": [
            "Num train point clouds: 2955\n",
            "Num train point cloud labels: 2955\n",
            "Num val point clouds: 739\n",
            "Num val point cloud labels: 739\n",
            "Train Dataset: <_ParallelMapDataset element_spec=(TensorSpec(shape=(None, 1024, 3), dtype=tf.float64, name=None), TensorSpec(shape=(None, 1024, 5), dtype=tf.float64, name=None))>\n",
            "Validation Dataset: <_BatchDataset element_spec=(TensorSpec(shape=(None, 1024, 3), dtype=tf.float64, name=None), TensorSpec(shape=(None, 1024, 5), dtype=tf.float64, name=None))>\n"
          ]
        }
      ],
      "source": [
        "def load_data(point_cloud_batch, label_cloud_batch):\n",
        "    point_cloud_batch.set_shape([NUM_SAMPLE_POINTS, 3])\n",
        "    label_cloud_batch.set_shape([NUM_SAMPLE_POINTS, len(LABELS) + 1])\n",
        "    return point_cloud_batch, label_cloud_batch\n",
        "\n",
        "\n",
        "def augment(point_cloud_batch, label_cloud_batch):\n",
        "    noise = tf.random.uniform(\n",
        "        tf.shape(label_cloud_batch), -0.001, 0.001, dtype=tf.float64\n",
        "    )\n",
        "    point_cloud_batch += noise[:, :, :3]\n",
        "    return point_cloud_batch, label_cloud_batch\n",
        "\n",
        "\n",
        "def generate_dataset(point_clouds, label_clouds, is_training=True):\n",
        "    dataset = tf.data.Dataset.from_tensor_slices((point_clouds, label_clouds))\n",
        "    dataset = dataset.shuffle(BATCH_SIZE * 100) if is_training else dataset\n",
        "    dataset = dataset.map(load_data, num_parallel_calls=tf.data.AUTOTUNE)\n",
        "    dataset = dataset.batch(batch_size=BATCH_SIZE)\n",
        "    dataset = (\n",
        "        dataset.map(augment, num_parallel_calls=tf.data.AUTOTUNE)\n",
        "        if is_training\n",
        "        else dataset\n",
        "    )\n",
        "    return dataset\n",
        "\n",
        "\n",
        "split_index = int(len(point_clouds) * (1 - VAL_SPLIT))\n",
        "train_point_clouds = point_clouds[:split_index]\n",
        "train_label_cloud = point_cloud_labels[:split_index]\n",
        "total_training_examples = len(train_point_clouds)\n",
        "\n",
        "val_point_clouds = point_clouds[split_index:]\n",
        "val_label_cloud = point_cloud_labels[split_index:]\n",
        "\n",
        "print(\"Num train point clouds:\", len(train_point_clouds))\n",
        "print(\"Num train point cloud labels:\", len(train_label_cloud))\n",
        "print(\"Num val point clouds:\", len(val_point_clouds))\n",
        "print(\"Num val point cloud labels:\", len(val_label_cloud))\n",
        "\n",
        "train_dataset = generate_dataset(train_point_clouds, train_label_cloud)\n",
        "val_dataset = generate_dataset(val_point_clouds, val_label_cloud, is_training=False)\n",
        "\n",
        "print(\"Train Dataset:\", train_dataset)\n",
        "print(\"Validation Dataset:\", val_dataset)"
      ]
    },
    {
      "cell_type": "code",
      "execution_count": null,
      "metadata": {
        "id": "rCbOSWveEuXn"
      },
      "outputs": [],
      "source": [
        "def conv_block(x, filters, name):\n",
        "    x = layers.Conv1D(filters, kernel_size=1, padding=\"valid\", name=f\"{name}_conv\")(x)\n",
        "    x = layers.BatchNormalization(name=f\"{name}_batch_norm\")(x)\n",
        "    return layers.Activation(\"relu\", name=f\"{name}_relu\")(x)\n",
        "\n",
        "\n",
        "def mlp_block(x, filters, name):\n",
        "    x = layers.Dense(filters, name=f\"{name}_dense\")(x)\n",
        "    x = layers.BatchNormalization(name=f\"{name}_batch_norm\")(x)\n",
        "    return layers.Activation(\"relu\", name=f\"{name}_relu\")(x)"
      ]
    },
    {
      "cell_type": "code",
      "execution_count": null,
      "metadata": {
        "id": "bJCIZoNsEuaS"
      },
      "outputs": [],
      "source": [
        "class OrthogonalRegularizer(keras.regularizers.Regularizer):\n",
        "    \"\"\"Reference: https://keras.io/examples/vision/pointnet/#build-a-model\"\"\"\n",
        "\n",
        "    def __init__(self, num_features, l2reg=0.001):\n",
        "        self.num_features = num_features\n",
        "        self.l2reg = l2reg\n",
        "        self.identity = keras.ops.eye(num_features)\n",
        "\n",
        "    def __call__(self, x):\n",
        "        x = keras.ops.reshape(x, (-1, self.num_features, self.num_features))\n",
        "        xxt = keras.ops.tensordot(x, x, axes=(2, 2))\n",
        "        xxt = keras.ops.reshape(xxt, (-1, self.num_features, self.num_features))\n",
        "        return keras.ops.sum(self.l2reg * keras.ops.square(xxt - self.identity))\n",
        "\n",
        "    def get_config(self):\n",
        "        config = super().get_config()\n",
        "        config.update({\"num_features\": self.num_features, \"l2reg_strength\": self.l2reg})\n",
        "        return config"
      ]
    },
    {
      "cell_type": "code",
      "execution_count": null,
      "metadata": {
        "id": "esthjzeMEudJ"
      },
      "outputs": [],
      "source": [
        "def transformation_net(inputs, num_features, name):\n",
        "    \"\"\"\n",
        "    Reference: https://keras.io/examples/vision/pointnet/#build-a-model.\n",
        "\n",
        "    The `filters` values come from the original paper:\n",
        "    https://arxiv.org/abs/1612.00593.\n",
        "    \"\"\"\n",
        "    x = conv_block(inputs, filters=64, name=f\"{name}_1\")\n",
        "    x = conv_block(x, filters=128, name=f\"{name}_2\")\n",
        "    x = conv_block(x, filters=1024, name=f\"{name}_3\")\n",
        "    x = layers.GlobalMaxPooling1D()(x)\n",
        "    x = mlp_block(x, filters=512, name=f\"{name}_1_1\")\n",
        "    x = mlp_block(x, filters=256, name=f\"{name}_2_1\")\n",
        "    return layers.Dense(\n",
        "        num_features * num_features,\n",
        "        kernel_initializer=\"zeros\",\n",
        "        bias_initializer=keras.initializers.Constant(np.eye(num_features).flatten()),\n",
        "        activity_regularizer=OrthogonalRegularizer(num_features),\n",
        "        name=f\"{name}_final\",\n",
        "    )(x)\n",
        "\n",
        "\n",
        "def transformation_block(inputs, num_features, name):\n",
        "    transformed_features = transformation_net(inputs, num_features, name=name)\n",
        "    transformed_features = layers.Reshape((num_features, num_features))(\n",
        "        transformed_features\n",
        "    )\n",
        "    return layers.Dot(axes=(2, 1), name=f\"{name}_mm\")([inputs, transformed_features])"
      ]
    },
    {
      "cell_type": "code",
      "execution_count": null,
      "metadata": {
        "id": "Icm0ruOaEye_"
      },
      "outputs": [],
      "source": [
        "def get_shape_segmentation_model(num_points, num_classes):\n",
        "    input_points = keras.Input(shape=(None, 3))\n",
        "\n",
        "    # PointNet Classification Network.\n",
        "    transformed_inputs = transformation_block(\n",
        "        input_points, num_features=3, name=\"input_transformation_block\"\n",
        "    )\n",
        "    features_64 = conv_block(transformed_inputs, filters=64, name=\"features_64\")\n",
        "    features_128_1 = conv_block(features_64, filters=128, name=\"features_128_1\")\n",
        "    features_128_2 = conv_block(features_128_1, filters=128, name=\"features_128_2\")\n",
        "    transformed_features = transformation_block(\n",
        "        features_128_2, num_features=128, name=\"transformed_features\"\n",
        "    )\n",
        "    features_512 = conv_block(transformed_features, filters=512, name=\"features_512\")\n",
        "    features_2048 = conv_block(features_512, filters=2048, name=\"pre_maxpool_block\")\n",
        "    global_features = layers.MaxPool1D(pool_size=num_points, name=\"global_features\")(\n",
        "        features_2048\n",
        "    )\n",
        "    global_features = keras.ops.tile(global_features, [1, num_points, 1])\n",
        "\n",
        "    # Segmentation head.\n",
        "    segmentation_input = layers.Concatenate(name=\"segmentation_input\")(\n",
        "        [\n",
        "            features_64,\n",
        "            features_128_1,\n",
        "            features_128_2,\n",
        "            transformed_features,\n",
        "            features_512,\n",
        "            global_features,\n",
        "        ]\n",
        "    )\n",
        "    segmentation_features = conv_block(\n",
        "        segmentation_input, filters=128, name=\"segmentation_features\"\n",
        "    )\n",
        "    outputs = layers.Conv1D(\n",
        "        num_classes, kernel_size=1, activation=\"softmax\", name=\"segmentation_head\"\n",
        "    )(segmentation_features)\n",
        "    return keras.Model(input_points, outputs)"
      ]
    },
    {
      "cell_type": "code",
      "execution_count": null,
      "metadata": {
        "colab": {
          "base_uri": "https://localhost:8080/",
          "height": 1000
        },
        "id": "cQS5rfBUEycY",
        "outputId": "d8b7d5a3-fa59-4c9b-b1a3-5e5f816b18b9"
      },
      "outputs": [
        {
          "data": {
            "text/html": [
              "<pre style=\"white-space:pre;overflow-x:auto;line-height:normal;font-family:Menlo,'DejaVu Sans Mono',consolas,'Courier New',monospace\"><span style=\"font-weight: bold\">Model: \"functional_9\"</span>\n",
              "</pre>\n"
            ],
            "text/plain": [
              "\u001b[1mModel: \"functional_9\"\u001b[0m\n"
            ]
          },
          "metadata": {},
          "output_type": "display_data"
        },
        {
          "data": {
            "text/html": [
              "<pre style=\"white-space:pre;overflow-x:auto;line-height:normal;font-family:Menlo,'DejaVu Sans Mono',consolas,'Courier New',monospace\">┏━━━━━━━━━━━━━━━━━━━━━━━━━━━┳━━━━━━━━━━━━━━━━━━━━━━━━┳━━━━━━━━━━━━┳━━━━━━━━━━━━━━━━━━━━━━━━━━━━┓\n",
              "┃<span style=\"font-weight: bold\"> Layer (type)              </span>┃<span style=\"font-weight: bold\"> Output Shape           </span>┃<span style=\"font-weight: bold\">    Param # </span>┃<span style=\"font-weight: bold\"> Connected to               </span>┃\n",
              "┡━━━━━━━━━━━━━━━━━━━━━━━━━━━╇━━━━━━━━━━━━━━━━━━━━━━━━╇━━━━━━━━━━━━╇━━━━━━━━━━━━━━━━━━━━━━━━━━━━┩\n",
              "│ input_layer_4             │ (<span style=\"color: #00d7ff; text-decoration-color: #00d7ff\">None</span>, <span style=\"color: #00d7ff; text-decoration-color: #00d7ff\">None</span>, <span style=\"color: #00af00; text-decoration-color: #00af00\">3</span>)        │          <span style=\"color: #00af00; text-decoration-color: #00af00\">0</span> │ -                          │\n",
              "│ (<span style=\"color: #0087ff; text-decoration-color: #0087ff\">InputLayer</span>)              │                        │            │                            │\n",
              "├───────────────────────────┼────────────────────────┼────────────┼────────────────────────────┤\n",
              "│ input_transformation_blo… │ (<span style=\"color: #00d7ff; text-decoration-color: #00d7ff\">None</span>, <span style=\"color: #00d7ff; text-decoration-color: #00d7ff\">None</span>, <span style=\"color: #00af00; text-decoration-color: #00af00\">64</span>)       │        <span style=\"color: #00af00; text-decoration-color: #00af00\">256</span> │ input_layer_4[<span style=\"color: #00af00; text-decoration-color: #00af00\">0</span>][<span style=\"color: #00af00; text-decoration-color: #00af00\">0</span>]        │\n",
              "│ (<span style=\"color: #0087ff; text-decoration-color: #0087ff\">Conv1D</span>)                  │                        │            │                            │\n",
              "├───────────────────────────┼────────────────────────┼────────────┼────────────────────────────┤\n",
              "│ input_transformation_blo… │ (<span style=\"color: #00d7ff; text-decoration-color: #00d7ff\">None</span>, <span style=\"color: #00d7ff; text-decoration-color: #00d7ff\">None</span>, <span style=\"color: #00af00; text-decoration-color: #00af00\">64</span>)       │        <span style=\"color: #00af00; text-decoration-color: #00af00\">256</span> │ input_transformation_bloc… │\n",
              "│ (<span style=\"color: #0087ff; text-decoration-color: #0087ff\">BatchNormalization</span>)      │                        │            │                            │\n",
              "├───────────────────────────┼────────────────────────┼────────────┼────────────────────────────┤\n",
              "│ input_transformation_blo… │ (<span style=\"color: #00d7ff; text-decoration-color: #00d7ff\">None</span>, <span style=\"color: #00d7ff; text-decoration-color: #00d7ff\">None</span>, <span style=\"color: #00af00; text-decoration-color: #00af00\">64</span>)       │          <span style=\"color: #00af00; text-decoration-color: #00af00\">0</span> │ input_transformation_bloc… │\n",
              "│ (<span style=\"color: #0087ff; text-decoration-color: #0087ff\">Activation</span>)              │                        │            │                            │\n",
              "├───────────────────────────┼────────────────────────┼────────────┼────────────────────────────┤\n",
              "│ input_transformation_blo… │ (<span style=\"color: #00d7ff; text-decoration-color: #00d7ff\">None</span>, <span style=\"color: #00d7ff; text-decoration-color: #00d7ff\">None</span>, <span style=\"color: #00af00; text-decoration-color: #00af00\">128</span>)      │      <span style=\"color: #00af00; text-decoration-color: #00af00\">8,320</span> │ input_transformation_bloc… │\n",
              "│ (<span style=\"color: #0087ff; text-decoration-color: #0087ff\">Conv1D</span>)                  │                        │            │                            │\n",
              "├───────────────────────────┼────────────────────────┼────────────┼────────────────────────────┤\n",
              "│ input_transformation_blo… │ (<span style=\"color: #00d7ff; text-decoration-color: #00d7ff\">None</span>, <span style=\"color: #00d7ff; text-decoration-color: #00d7ff\">None</span>, <span style=\"color: #00af00; text-decoration-color: #00af00\">128</span>)      │        <span style=\"color: #00af00; text-decoration-color: #00af00\">512</span> │ input_transformation_bloc… │\n",
              "│ (<span style=\"color: #0087ff; text-decoration-color: #0087ff\">BatchNormalization</span>)      │                        │            │                            │\n",
              "├───────────────────────────┼────────────────────────┼────────────┼────────────────────────────┤\n",
              "│ input_transformation_blo… │ (<span style=\"color: #00d7ff; text-decoration-color: #00d7ff\">None</span>, <span style=\"color: #00d7ff; text-decoration-color: #00d7ff\">None</span>, <span style=\"color: #00af00; text-decoration-color: #00af00\">128</span>)      │          <span style=\"color: #00af00; text-decoration-color: #00af00\">0</span> │ input_transformation_bloc… │\n",
              "│ (<span style=\"color: #0087ff; text-decoration-color: #0087ff\">Activation</span>)              │                        │            │                            │\n",
              "├───────────────────────────┼────────────────────────┼────────────┼────────────────────────────┤\n",
              "│ input_transformation_blo… │ (<span style=\"color: #00d7ff; text-decoration-color: #00d7ff\">None</span>, <span style=\"color: #00d7ff; text-decoration-color: #00d7ff\">None</span>, <span style=\"color: #00af00; text-decoration-color: #00af00\">1024</span>)     │    <span style=\"color: #00af00; text-decoration-color: #00af00\">132,096</span> │ input_transformation_bloc… │\n",
              "│ (<span style=\"color: #0087ff; text-decoration-color: #0087ff\">Conv1D</span>)                  │                        │            │                            │\n",
              "├───────────────────────────┼────────────────────────┼────────────┼────────────────────────────┤\n",
              "│ input_transformation_blo… │ (<span style=\"color: #00d7ff; text-decoration-color: #00d7ff\">None</span>, <span style=\"color: #00d7ff; text-decoration-color: #00d7ff\">None</span>, <span style=\"color: #00af00; text-decoration-color: #00af00\">1024</span>)     │      <span style=\"color: #00af00; text-decoration-color: #00af00\">4,096</span> │ input_transformation_bloc… │\n",
              "│ (<span style=\"color: #0087ff; text-decoration-color: #0087ff\">BatchNormalization</span>)      │                        │            │                            │\n",
              "├───────────────────────────┼────────────────────────┼────────────┼────────────────────────────┤\n",
              "│ input_transformation_blo… │ (<span style=\"color: #00d7ff; text-decoration-color: #00d7ff\">None</span>, <span style=\"color: #00d7ff; text-decoration-color: #00d7ff\">None</span>, <span style=\"color: #00af00; text-decoration-color: #00af00\">1024</span>)     │          <span style=\"color: #00af00; text-decoration-color: #00af00\">0</span> │ input_transformation_bloc… │\n",
              "│ (<span style=\"color: #0087ff; text-decoration-color: #0087ff\">Activation</span>)              │                        │            │                            │\n",
              "├───────────────────────────┼────────────────────────┼────────────┼────────────────────────────┤\n",
              "│ global_max_pooling1d_8    │ (<span style=\"color: #00d7ff; text-decoration-color: #00d7ff\">None</span>, <span style=\"color: #00af00; text-decoration-color: #00af00\">1024</span>)           │          <span style=\"color: #00af00; text-decoration-color: #00af00\">0</span> │ input_transformation_bloc… │\n",
              "│ (<span style=\"color: #0087ff; text-decoration-color: #0087ff\">GlobalMaxPooling1D</span>)      │                        │            │                            │\n",
              "├───────────────────────────┼────────────────────────┼────────────┼────────────────────────────┤\n",
              "│ input_transformation_blo… │ (<span style=\"color: #00d7ff; text-decoration-color: #00d7ff\">None</span>, <span style=\"color: #00af00; text-decoration-color: #00af00\">512</span>)            │    <span style=\"color: #00af00; text-decoration-color: #00af00\">524,800</span> │ global_max_pooling1d_8[<span style=\"color: #00af00; text-decoration-color: #00af00\">0</span>]… │\n",
              "│ (<span style=\"color: #0087ff; text-decoration-color: #0087ff\">Dense</span>)                   │                        │            │                            │\n",
              "├───────────────────────────┼────────────────────────┼────────────┼────────────────────────────┤\n",
              "│ input_transformation_blo… │ (<span style=\"color: #00d7ff; text-decoration-color: #00d7ff\">None</span>, <span style=\"color: #00af00; text-decoration-color: #00af00\">512</span>)            │      <span style=\"color: #00af00; text-decoration-color: #00af00\">2,048</span> │ input_transformation_bloc… │\n",
              "│ (<span style=\"color: #0087ff; text-decoration-color: #0087ff\">BatchNormalization</span>)      │                        │            │                            │\n",
              "├───────────────────────────┼────────────────────────┼────────────┼────────────────────────────┤\n",
              "│ input_transformation_blo… │ (<span style=\"color: #00d7ff; text-decoration-color: #00d7ff\">None</span>, <span style=\"color: #00af00; text-decoration-color: #00af00\">512</span>)            │          <span style=\"color: #00af00; text-decoration-color: #00af00\">0</span> │ input_transformation_bloc… │\n",
              "│ (<span style=\"color: #0087ff; text-decoration-color: #0087ff\">Activation</span>)              │                        │            │                            │\n",
              "├───────────────────────────┼────────────────────────┼────────────┼────────────────────────────┤\n",
              "│ input_transformation_blo… │ (<span style=\"color: #00d7ff; text-decoration-color: #00d7ff\">None</span>, <span style=\"color: #00af00; text-decoration-color: #00af00\">256</span>)            │    <span style=\"color: #00af00; text-decoration-color: #00af00\">131,328</span> │ input_transformation_bloc… │\n",
              "│ (<span style=\"color: #0087ff; text-decoration-color: #0087ff\">Dense</span>)                   │                        │            │                            │\n",
              "├───────────────────────────┼────────────────────────┼────────────┼────────────────────────────┤\n",
              "│ input_transformation_blo… │ (<span style=\"color: #00d7ff; text-decoration-color: #00d7ff\">None</span>, <span style=\"color: #00af00; text-decoration-color: #00af00\">256</span>)            │      <span style=\"color: #00af00; text-decoration-color: #00af00\">1,024</span> │ input_transformation_bloc… │\n",
              "│ (<span style=\"color: #0087ff; text-decoration-color: #0087ff\">BatchNormalization</span>)      │                        │            │                            │\n",
              "├───────────────────────────┼────────────────────────┼────────────┼────────────────────────────┤\n",
              "│ input_transformation_blo… │ (<span style=\"color: #00d7ff; text-decoration-color: #00d7ff\">None</span>, <span style=\"color: #00af00; text-decoration-color: #00af00\">256</span>)            │          <span style=\"color: #00af00; text-decoration-color: #00af00\">0</span> │ input_transformation_bloc… │\n",
              "│ (<span style=\"color: #0087ff; text-decoration-color: #0087ff\">Activation</span>)              │                        │            │                            │\n",
              "├───────────────────────────┼────────────────────────┼────────────┼────────────────────────────┤\n",
              "│ input_transformation_blo… │ (<span style=\"color: #00d7ff; text-decoration-color: #00d7ff\">None</span>, <span style=\"color: #00af00; text-decoration-color: #00af00\">9</span>)              │      <span style=\"color: #00af00; text-decoration-color: #00af00\">2,313</span> │ input_transformation_bloc… │\n",
              "│ (<span style=\"color: #0087ff; text-decoration-color: #0087ff\">Dense</span>)                   │                        │            │                            │\n",
              "├───────────────────────────┼────────────────────────┼────────────┼────────────────────────────┤\n",
              "│ reshape_8 (<span style=\"color: #0087ff; text-decoration-color: #0087ff\">Reshape</span>)       │ (<span style=\"color: #00d7ff; text-decoration-color: #00d7ff\">None</span>, <span style=\"color: #00af00; text-decoration-color: #00af00\">3</span>, <span style=\"color: #00af00; text-decoration-color: #00af00\">3</span>)           │          <span style=\"color: #00af00; text-decoration-color: #00af00\">0</span> │ input_transformation_bloc… │\n",
              "├───────────────────────────┼────────────────────────┼────────────┼────────────────────────────┤\n",
              "│ input_transformation_blo… │ (<span style=\"color: #00d7ff; text-decoration-color: #00d7ff\">None</span>, <span style=\"color: #00d7ff; text-decoration-color: #00d7ff\">None</span>, <span style=\"color: #00af00; text-decoration-color: #00af00\">3</span>)        │          <span style=\"color: #00af00; text-decoration-color: #00af00\">0</span> │ input_layer_4[<span style=\"color: #00af00; text-decoration-color: #00af00\">0</span>][<span style=\"color: #00af00; text-decoration-color: #00af00\">0</span>],       │\n",
              "│ (<span style=\"color: #0087ff; text-decoration-color: #0087ff\">Dot</span>)                     │                        │            │ reshape_8[<span style=\"color: #00af00; text-decoration-color: #00af00\">0</span>][<span style=\"color: #00af00; text-decoration-color: #00af00\">0</span>]            │\n",
              "├───────────────────────────┼────────────────────────┼────────────┼────────────────────────────┤\n",
              "│ features_64_conv (<span style=\"color: #0087ff; text-decoration-color: #0087ff\">Conv1D</span>) │ (<span style=\"color: #00d7ff; text-decoration-color: #00d7ff\">None</span>, <span style=\"color: #00d7ff; text-decoration-color: #00d7ff\">None</span>, <span style=\"color: #00af00; text-decoration-color: #00af00\">64</span>)       │        <span style=\"color: #00af00; text-decoration-color: #00af00\">256</span> │ input_transformation_bloc… │\n",
              "├───────────────────────────┼────────────────────────┼────────────┼────────────────────────────┤\n",
              "│ features_64_batch_norm    │ (<span style=\"color: #00d7ff; text-decoration-color: #00d7ff\">None</span>, <span style=\"color: #00d7ff; text-decoration-color: #00d7ff\">None</span>, <span style=\"color: #00af00; text-decoration-color: #00af00\">64</span>)       │        <span style=\"color: #00af00; text-decoration-color: #00af00\">256</span> │ features_64_conv[<span style=\"color: #00af00; text-decoration-color: #00af00\">0</span>][<span style=\"color: #00af00; text-decoration-color: #00af00\">0</span>]     │\n",
              "│ (<span style=\"color: #0087ff; text-decoration-color: #0087ff\">BatchNormalization</span>)      │                        │            │                            │\n",
              "├───────────────────────────┼────────────────────────┼────────────┼────────────────────────────┤\n",
              "│ features_64_relu          │ (<span style=\"color: #00d7ff; text-decoration-color: #00d7ff\">None</span>, <span style=\"color: #00d7ff; text-decoration-color: #00d7ff\">None</span>, <span style=\"color: #00af00; text-decoration-color: #00af00\">64</span>)       │          <span style=\"color: #00af00; text-decoration-color: #00af00\">0</span> │ features_64_batch_norm[<span style=\"color: #00af00; text-decoration-color: #00af00\">0</span>]… │\n",
              "│ (<span style=\"color: #0087ff; text-decoration-color: #0087ff\">Activation</span>)              │                        │            │                            │\n",
              "├───────────────────────────┼────────────────────────┼────────────┼────────────────────────────┤\n",
              "│ features_128_1_conv       │ (<span style=\"color: #00d7ff; text-decoration-color: #00d7ff\">None</span>, <span style=\"color: #00d7ff; text-decoration-color: #00d7ff\">None</span>, <span style=\"color: #00af00; text-decoration-color: #00af00\">128</span>)      │      <span style=\"color: #00af00; text-decoration-color: #00af00\">8,320</span> │ features_64_relu[<span style=\"color: #00af00; text-decoration-color: #00af00\">0</span>][<span style=\"color: #00af00; text-decoration-color: #00af00\">0</span>]     │\n",
              "│ (<span style=\"color: #0087ff; text-decoration-color: #0087ff\">Conv1D</span>)                  │                        │            │                            │\n",
              "├───────────────────────────┼────────────────────────┼────────────┼────────────────────────────┤\n",
              "│ features_128_1_batch_norm │ (<span style=\"color: #00d7ff; text-decoration-color: #00d7ff\">None</span>, <span style=\"color: #00d7ff; text-decoration-color: #00d7ff\">None</span>, <span style=\"color: #00af00; text-decoration-color: #00af00\">128</span>)      │        <span style=\"color: #00af00; text-decoration-color: #00af00\">512</span> │ features_128_1_conv[<span style=\"color: #00af00; text-decoration-color: #00af00\">0</span>][<span style=\"color: #00af00; text-decoration-color: #00af00\">0</span>]  │\n",
              "│ (<span style=\"color: #0087ff; text-decoration-color: #0087ff\">BatchNormalization</span>)      │                        │            │                            │\n",
              "├───────────────────────────┼────────────────────────┼────────────┼────────────────────────────┤\n",
              "│ features_128_1_relu       │ (<span style=\"color: #00d7ff; text-decoration-color: #00d7ff\">None</span>, <span style=\"color: #00d7ff; text-decoration-color: #00d7ff\">None</span>, <span style=\"color: #00af00; text-decoration-color: #00af00\">128</span>)      │          <span style=\"color: #00af00; text-decoration-color: #00af00\">0</span> │ features_128_1_batch_norm… │\n",
              "│ (<span style=\"color: #0087ff; text-decoration-color: #0087ff\">Activation</span>)              │                        │            │                            │\n",
              "├───────────────────────────┼────────────────────────┼────────────┼────────────────────────────┤\n",
              "│ features_128_2_conv       │ (<span style=\"color: #00d7ff; text-decoration-color: #00d7ff\">None</span>, <span style=\"color: #00d7ff; text-decoration-color: #00d7ff\">None</span>, <span style=\"color: #00af00; text-decoration-color: #00af00\">128</span>)      │     <span style=\"color: #00af00; text-decoration-color: #00af00\">16,512</span> │ features_128_1_relu[<span style=\"color: #00af00; text-decoration-color: #00af00\">0</span>][<span style=\"color: #00af00; text-decoration-color: #00af00\">0</span>]  │\n",
              "│ (<span style=\"color: #0087ff; text-decoration-color: #0087ff\">Conv1D</span>)                  │                        │            │                            │\n",
              "├───────────────────────────┼────────────────────────┼────────────┼────────────────────────────┤\n",
              "│ features_128_2_batch_norm │ (<span style=\"color: #00d7ff; text-decoration-color: #00d7ff\">None</span>, <span style=\"color: #00d7ff; text-decoration-color: #00d7ff\">None</span>, <span style=\"color: #00af00; text-decoration-color: #00af00\">128</span>)      │        <span style=\"color: #00af00; text-decoration-color: #00af00\">512</span> │ features_128_2_conv[<span style=\"color: #00af00; text-decoration-color: #00af00\">0</span>][<span style=\"color: #00af00; text-decoration-color: #00af00\">0</span>]  │\n",
              "│ (<span style=\"color: #0087ff; text-decoration-color: #0087ff\">BatchNormalization</span>)      │                        │            │                            │\n",
              "├───────────────────────────┼────────────────────────┼────────────┼────────────────────────────┤\n",
              "│ features_128_2_relu       │ (<span style=\"color: #00d7ff; text-decoration-color: #00d7ff\">None</span>, <span style=\"color: #00d7ff; text-decoration-color: #00d7ff\">None</span>, <span style=\"color: #00af00; text-decoration-color: #00af00\">128</span>)      │          <span style=\"color: #00af00; text-decoration-color: #00af00\">0</span> │ features_128_2_batch_norm… │\n",
              "│ (<span style=\"color: #0087ff; text-decoration-color: #0087ff\">Activation</span>)              │                        │            │                            │\n",
              "├───────────────────────────┼────────────────────────┼────────────┼────────────────────────────┤\n",
              "│ transformed_features_1_c… │ (<span style=\"color: #00d7ff; text-decoration-color: #00d7ff\">None</span>, <span style=\"color: #00d7ff; text-decoration-color: #00d7ff\">None</span>, <span style=\"color: #00af00; text-decoration-color: #00af00\">64</span>)       │      <span style=\"color: #00af00; text-decoration-color: #00af00\">8,256</span> │ features_128_2_relu[<span style=\"color: #00af00; text-decoration-color: #00af00\">0</span>][<span style=\"color: #00af00; text-decoration-color: #00af00\">0</span>]  │\n",
              "│ (<span style=\"color: #0087ff; text-decoration-color: #0087ff\">Conv1D</span>)                  │                        │            │                            │\n",
              "├───────────────────────────┼────────────────────────┼────────────┼────────────────────────────┤\n",
              "│ transformed_features_1_b… │ (<span style=\"color: #00d7ff; text-decoration-color: #00d7ff\">None</span>, <span style=\"color: #00d7ff; text-decoration-color: #00d7ff\">None</span>, <span style=\"color: #00af00; text-decoration-color: #00af00\">64</span>)       │        <span style=\"color: #00af00; text-decoration-color: #00af00\">256</span> │ transformed_features_1_co… │\n",
              "│ (<span style=\"color: #0087ff; text-decoration-color: #0087ff\">BatchNormalization</span>)      │                        │            │                            │\n",
              "├───────────────────────────┼────────────────────────┼────────────┼────────────────────────────┤\n",
              "│ transformed_features_1_r… │ (<span style=\"color: #00d7ff; text-decoration-color: #00d7ff\">None</span>, <span style=\"color: #00d7ff; text-decoration-color: #00d7ff\">None</span>, <span style=\"color: #00af00; text-decoration-color: #00af00\">64</span>)       │          <span style=\"color: #00af00; text-decoration-color: #00af00\">0</span> │ transformed_features_1_ba… │\n",
              "│ (<span style=\"color: #0087ff; text-decoration-color: #0087ff\">Activation</span>)              │                        │            │                            │\n",
              "├───────────────────────────┼────────────────────────┼────────────┼────────────────────────────┤\n",
              "│ transformed_features_2_c… │ (<span style=\"color: #00d7ff; text-decoration-color: #00d7ff\">None</span>, <span style=\"color: #00d7ff; text-decoration-color: #00d7ff\">None</span>, <span style=\"color: #00af00; text-decoration-color: #00af00\">128</span>)      │      <span style=\"color: #00af00; text-decoration-color: #00af00\">8,320</span> │ transformed_features_1_re… │\n",
              "│ (<span style=\"color: #0087ff; text-decoration-color: #0087ff\">Conv1D</span>)                  │                        │            │                            │\n",
              "├───────────────────────────┼────────────────────────┼────────────┼────────────────────────────┤\n",
              "│ transformed_features_2_b… │ (<span style=\"color: #00d7ff; text-decoration-color: #00d7ff\">None</span>, <span style=\"color: #00d7ff; text-decoration-color: #00d7ff\">None</span>, <span style=\"color: #00af00; text-decoration-color: #00af00\">128</span>)      │        <span style=\"color: #00af00; text-decoration-color: #00af00\">512</span> │ transformed_features_2_co… │\n",
              "│ (<span style=\"color: #0087ff; text-decoration-color: #0087ff\">BatchNormalization</span>)      │                        │            │                            │\n",
              "├───────────────────────────┼────────────────────────┼────────────┼────────────────────────────┤\n",
              "│ transformed_features_2_r… │ (<span style=\"color: #00d7ff; text-decoration-color: #00d7ff\">None</span>, <span style=\"color: #00d7ff; text-decoration-color: #00d7ff\">None</span>, <span style=\"color: #00af00; text-decoration-color: #00af00\">128</span>)      │          <span style=\"color: #00af00; text-decoration-color: #00af00\">0</span> │ transformed_features_2_ba… │\n",
              "│ (<span style=\"color: #0087ff; text-decoration-color: #0087ff\">Activation</span>)              │                        │            │                            │\n",
              "├───────────────────────────┼────────────────────────┼────────────┼────────────────────────────┤\n",
              "│ transformed_features_3_c… │ (<span style=\"color: #00d7ff; text-decoration-color: #00d7ff\">None</span>, <span style=\"color: #00d7ff; text-decoration-color: #00d7ff\">None</span>, <span style=\"color: #00af00; text-decoration-color: #00af00\">1024</span>)     │    <span style=\"color: #00af00; text-decoration-color: #00af00\">132,096</span> │ transformed_features_2_re… │\n",
              "│ (<span style=\"color: #0087ff; text-decoration-color: #0087ff\">Conv1D</span>)                  │                        │            │                            │\n",
              "├───────────────────────────┼────────────────────────┼────────────┼────────────────────────────┤\n",
              "│ transformed_features_3_b… │ (<span style=\"color: #00d7ff; text-decoration-color: #00d7ff\">None</span>, <span style=\"color: #00d7ff; text-decoration-color: #00d7ff\">None</span>, <span style=\"color: #00af00; text-decoration-color: #00af00\">1024</span>)     │      <span style=\"color: #00af00; text-decoration-color: #00af00\">4,096</span> │ transformed_features_3_co… │\n",
              "│ (<span style=\"color: #0087ff; text-decoration-color: #0087ff\">BatchNormalization</span>)      │                        │            │                            │\n",
              "├───────────────────────────┼────────────────────────┼────────────┼────────────────────────────┤\n",
              "│ transformed_features_3_r… │ (<span style=\"color: #00d7ff; text-decoration-color: #00d7ff\">None</span>, <span style=\"color: #00d7ff; text-decoration-color: #00d7ff\">None</span>, <span style=\"color: #00af00; text-decoration-color: #00af00\">1024</span>)     │          <span style=\"color: #00af00; text-decoration-color: #00af00\">0</span> │ transformed_features_3_ba… │\n",
              "│ (<span style=\"color: #0087ff; text-decoration-color: #0087ff\">Activation</span>)              │                        │            │                            │\n",
              "├───────────────────────────┼────────────────────────┼────────────┼────────────────────────────┤\n",
              "│ global_max_pooling1d_9    │ (<span style=\"color: #00d7ff; text-decoration-color: #00d7ff\">None</span>, <span style=\"color: #00af00; text-decoration-color: #00af00\">1024</span>)           │          <span style=\"color: #00af00; text-decoration-color: #00af00\">0</span> │ transformed_features_3_re… │\n",
              "│ (<span style=\"color: #0087ff; text-decoration-color: #0087ff\">GlobalMaxPooling1D</span>)      │                        │            │                            │\n",
              "├───────────────────────────┼────────────────────────┼────────────┼────────────────────────────┤\n",
              "│ transformed_features_1_1… │ (<span style=\"color: #00d7ff; text-decoration-color: #00d7ff\">None</span>, <span style=\"color: #00af00; text-decoration-color: #00af00\">512</span>)            │    <span style=\"color: #00af00; text-decoration-color: #00af00\">524,800</span> │ global_max_pooling1d_9[<span style=\"color: #00af00; text-decoration-color: #00af00\">0</span>]… │\n",
              "│ (<span style=\"color: #0087ff; text-decoration-color: #0087ff\">Dense</span>)                   │                        │            │                            │\n",
              "├───────────────────────────┼────────────────────────┼────────────┼────────────────────────────┤\n",
              "│ transformed_features_1_1… │ (<span style=\"color: #00d7ff; text-decoration-color: #00d7ff\">None</span>, <span style=\"color: #00af00; text-decoration-color: #00af00\">512</span>)            │      <span style=\"color: #00af00; text-decoration-color: #00af00\">2,048</span> │ transformed_features_1_1_… │\n",
              "│ (<span style=\"color: #0087ff; text-decoration-color: #0087ff\">BatchNormalization</span>)      │                        │            │                            │\n",
              "├───────────────────────────┼────────────────────────┼────────────┼────────────────────────────┤\n",
              "│ transformed_features_1_1… │ (<span style=\"color: #00d7ff; text-decoration-color: #00d7ff\">None</span>, <span style=\"color: #00af00; text-decoration-color: #00af00\">512</span>)            │          <span style=\"color: #00af00; text-decoration-color: #00af00\">0</span> │ transformed_features_1_1_… │\n",
              "│ (<span style=\"color: #0087ff; text-decoration-color: #0087ff\">Activation</span>)              │                        │            │                            │\n",
              "├───────────────────────────┼────────────────────────┼────────────┼────────────────────────────┤\n",
              "│ transformed_features_2_1… │ (<span style=\"color: #00d7ff; text-decoration-color: #00d7ff\">None</span>, <span style=\"color: #00af00; text-decoration-color: #00af00\">256</span>)            │    <span style=\"color: #00af00; text-decoration-color: #00af00\">131,328</span> │ transformed_features_1_1_… │\n",
              "│ (<span style=\"color: #0087ff; text-decoration-color: #0087ff\">Dense</span>)                   │                        │            │                            │\n",
              "├───────────────────────────┼────────────────────────┼────────────┼────────────────────────────┤\n",
              "│ transformed_features_2_1… │ (<span style=\"color: #00d7ff; text-decoration-color: #00d7ff\">None</span>, <span style=\"color: #00af00; text-decoration-color: #00af00\">256</span>)            │      <span style=\"color: #00af00; text-decoration-color: #00af00\">1,024</span> │ transformed_features_2_1_… │\n",
              "│ (<span style=\"color: #0087ff; text-decoration-color: #0087ff\">BatchNormalization</span>)      │                        │            │                            │\n",
              "├───────────────────────────┼────────────────────────┼────────────┼────────────────────────────┤\n",
              "│ transformed_features_2_1… │ (<span style=\"color: #00d7ff; text-decoration-color: #00d7ff\">None</span>, <span style=\"color: #00af00; text-decoration-color: #00af00\">256</span>)            │          <span style=\"color: #00af00; text-decoration-color: #00af00\">0</span> │ transformed_features_2_1_… │\n",
              "│ (<span style=\"color: #0087ff; text-decoration-color: #0087ff\">Activation</span>)              │                        │            │                            │\n",
              "├───────────────────────────┼────────────────────────┼────────────┼────────────────────────────┤\n",
              "│ transformed_features_fin… │ (<span style=\"color: #00d7ff; text-decoration-color: #00d7ff\">None</span>, <span style=\"color: #00af00; text-decoration-color: #00af00\">16384</span>)          │  <span style=\"color: #00af00; text-decoration-color: #00af00\">4,210,688</span> │ transformed_features_2_1_… │\n",
              "│ (<span style=\"color: #0087ff; text-decoration-color: #0087ff\">Dense</span>)                   │                        │            │                            │\n",
              "├───────────────────────────┼────────────────────────┼────────────┼────────────────────────────┤\n",
              "│ reshape_9 (<span style=\"color: #0087ff; text-decoration-color: #0087ff\">Reshape</span>)       │ (<span style=\"color: #00d7ff; text-decoration-color: #00d7ff\">None</span>, <span style=\"color: #00af00; text-decoration-color: #00af00\">128</span>, <span style=\"color: #00af00; text-decoration-color: #00af00\">128</span>)       │          <span style=\"color: #00af00; text-decoration-color: #00af00\">0</span> │ transformed_features_fina… │\n",
              "├───────────────────────────┼────────────────────────┼────────────┼────────────────────────────┤\n",
              "│ transformed_features_mm   │ (<span style=\"color: #00d7ff; text-decoration-color: #00d7ff\">None</span>, <span style=\"color: #00d7ff; text-decoration-color: #00d7ff\">None</span>, <span style=\"color: #00af00; text-decoration-color: #00af00\">128</span>)      │          <span style=\"color: #00af00; text-decoration-color: #00af00\">0</span> │ features_128_2_relu[<span style=\"color: #00af00; text-decoration-color: #00af00\">0</span>][<span style=\"color: #00af00; text-decoration-color: #00af00\">0</span>], │\n",
              "│ (<span style=\"color: #0087ff; text-decoration-color: #0087ff\">Dot</span>)                     │                        │            │ reshape_9[<span style=\"color: #00af00; text-decoration-color: #00af00\">0</span>][<span style=\"color: #00af00; text-decoration-color: #00af00\">0</span>]            │\n",
              "├───────────────────────────┼────────────────────────┼────────────┼────────────────────────────┤\n",
              "│ features_512_conv         │ (<span style=\"color: #00d7ff; text-decoration-color: #00d7ff\">None</span>, <span style=\"color: #00d7ff; text-decoration-color: #00d7ff\">None</span>, <span style=\"color: #00af00; text-decoration-color: #00af00\">512</span>)      │     <span style=\"color: #00af00; text-decoration-color: #00af00\">66,048</span> │ transformed_features_mm[<span style=\"color: #00af00; text-decoration-color: #00af00\">0</span>… │\n",
              "│ (<span style=\"color: #0087ff; text-decoration-color: #0087ff\">Conv1D</span>)                  │                        │            │                            │\n",
              "├───────────────────────────┼────────────────────────┼────────────┼────────────────────────────┤\n",
              "│ features_512_batch_norm   │ (<span style=\"color: #00d7ff; text-decoration-color: #00d7ff\">None</span>, <span style=\"color: #00d7ff; text-decoration-color: #00d7ff\">None</span>, <span style=\"color: #00af00; text-decoration-color: #00af00\">512</span>)      │      <span style=\"color: #00af00; text-decoration-color: #00af00\">2,048</span> │ features_512_conv[<span style=\"color: #00af00; text-decoration-color: #00af00\">0</span>][<span style=\"color: #00af00; text-decoration-color: #00af00\">0</span>]    │\n",
              "│ (<span style=\"color: #0087ff; text-decoration-color: #0087ff\">BatchNormalization</span>)      │                        │            │                            │\n",
              "├───────────────────────────┼────────────────────────┼────────────┼────────────────────────────┤\n",
              "│ features_512_relu         │ (<span style=\"color: #00d7ff; text-decoration-color: #00d7ff\">None</span>, <span style=\"color: #00d7ff; text-decoration-color: #00d7ff\">None</span>, <span style=\"color: #00af00; text-decoration-color: #00af00\">512</span>)      │          <span style=\"color: #00af00; text-decoration-color: #00af00\">0</span> │ features_512_batch_norm[<span style=\"color: #00af00; text-decoration-color: #00af00\">0</span>… │\n",
              "│ (<span style=\"color: #0087ff; text-decoration-color: #0087ff\">Activation</span>)              │                        │            │                            │\n",
              "├───────────────────────────┼────────────────────────┼────────────┼────────────────────────────┤\n",
              "│ pre_maxpool_block_conv    │ (<span style=\"color: #00d7ff; text-decoration-color: #00d7ff\">None</span>, <span style=\"color: #00d7ff; text-decoration-color: #00d7ff\">None</span>, <span style=\"color: #00af00; text-decoration-color: #00af00\">2048</span>)     │  <span style=\"color: #00af00; text-decoration-color: #00af00\">1,050,624</span> │ features_512_relu[<span style=\"color: #00af00; text-decoration-color: #00af00\">0</span>][<span style=\"color: #00af00; text-decoration-color: #00af00\">0</span>]    │\n",
              "│ (<span style=\"color: #0087ff; text-decoration-color: #0087ff\">Conv1D</span>)                  │                        │            │                            │\n",
              "├───────────────────────────┼────────────────────────┼────────────┼────────────────────────────┤\n",
              "│ pre_maxpool_block_batch_… │ (<span style=\"color: #00d7ff; text-decoration-color: #00d7ff\">None</span>, <span style=\"color: #00d7ff; text-decoration-color: #00d7ff\">None</span>, <span style=\"color: #00af00; text-decoration-color: #00af00\">2048</span>)     │      <span style=\"color: #00af00; text-decoration-color: #00af00\">8,192</span> │ pre_maxpool_block_conv[<span style=\"color: #00af00; text-decoration-color: #00af00\">0</span>]… │\n",
              "│ (<span style=\"color: #0087ff; text-decoration-color: #0087ff\">BatchNormalization</span>)      │                        │            │                            │\n",
              "├───────────────────────────┼────────────────────────┼────────────┼────────────────────────────┤\n",
              "│ pre_maxpool_block_relu    │ (<span style=\"color: #00d7ff; text-decoration-color: #00d7ff\">None</span>, <span style=\"color: #00d7ff; text-decoration-color: #00d7ff\">None</span>, <span style=\"color: #00af00; text-decoration-color: #00af00\">2048</span>)     │          <span style=\"color: #00af00; text-decoration-color: #00af00\">0</span> │ pre_maxpool_block_batch_n… │\n",
              "│ (<span style=\"color: #0087ff; text-decoration-color: #0087ff\">Activation</span>)              │                        │            │                            │\n",
              "├───────────────────────────┼────────────────────────┼────────────┼────────────────────────────┤\n",
              "│ global_features           │ (<span style=\"color: #00d7ff; text-decoration-color: #00d7ff\">None</span>, <span style=\"color: #00d7ff; text-decoration-color: #00d7ff\">None</span>, <span style=\"color: #00af00; text-decoration-color: #00af00\">2048</span>)     │          <span style=\"color: #00af00; text-decoration-color: #00af00\">0</span> │ pre_maxpool_block_relu[<span style=\"color: #00af00; text-decoration-color: #00af00\">0</span>]… │\n",
              "│ (<span style=\"color: #0087ff; text-decoration-color: #0087ff\">MaxPooling1D</span>)            │                        │            │                            │\n",
              "├───────────────────────────┼────────────────────────┼────────────┼────────────────────────────┤\n",
              "│ tile_4 (<span style=\"color: #0087ff; text-decoration-color: #0087ff\">Tile</span>)             │ (<span style=\"color: #00d7ff; text-decoration-color: #00d7ff\">None</span>, <span style=\"color: #00d7ff; text-decoration-color: #00d7ff\">None</span>, <span style=\"color: #00af00; text-decoration-color: #00af00\">2048</span>)     │          <span style=\"color: #00af00; text-decoration-color: #00af00\">0</span> │ global_features[<span style=\"color: #00af00; text-decoration-color: #00af00\">0</span>][<span style=\"color: #00af00; text-decoration-color: #00af00\">0</span>]      │\n",
              "├───────────────────────────┼────────────────────────┼────────────┼────────────────────────────┤\n",
              "│ segmentation_input        │ (<span style=\"color: #00d7ff; text-decoration-color: #00d7ff\">None</span>, <span style=\"color: #00d7ff; text-decoration-color: #00d7ff\">None</span>, <span style=\"color: #00af00; text-decoration-color: #00af00\">3008</span>)     │          <span style=\"color: #00af00; text-decoration-color: #00af00\">0</span> │ features_64_relu[<span style=\"color: #00af00; text-decoration-color: #00af00\">0</span>][<span style=\"color: #00af00; text-decoration-color: #00af00\">0</span>],    │\n",
              "│ (<span style=\"color: #0087ff; text-decoration-color: #0087ff\">Concatenate</span>)             │                        │            │ features_128_1_relu[<span style=\"color: #00af00; text-decoration-color: #00af00\">0</span>][<span style=\"color: #00af00; text-decoration-color: #00af00\">0</span>], │\n",
              "│                           │                        │            │ features_128_2_relu[<span style=\"color: #00af00; text-decoration-color: #00af00\">0</span>][<span style=\"color: #00af00; text-decoration-color: #00af00\">0</span>], │\n",
              "│                           │                        │            │ transformed_features_mm[<span style=\"color: #00af00; text-decoration-color: #00af00\">0</span>… │\n",
              "│                           │                        │            │ features_512_relu[<span style=\"color: #00af00; text-decoration-color: #00af00\">0</span>][<span style=\"color: #00af00; text-decoration-color: #00af00\">0</span>],   │\n",
              "│                           │                        │            │ tile_4[<span style=\"color: #00af00; text-decoration-color: #00af00\">0</span>][<span style=\"color: #00af00; text-decoration-color: #00af00\">0</span>]               │\n",
              "├───────────────────────────┼────────────────────────┼────────────┼────────────────────────────┤\n",
              "│ segmentation_features_co… │ (<span style=\"color: #00d7ff; text-decoration-color: #00d7ff\">None</span>, <span style=\"color: #00d7ff; text-decoration-color: #00d7ff\">None</span>, <span style=\"color: #00af00; text-decoration-color: #00af00\">128</span>)      │    <span style=\"color: #00af00; text-decoration-color: #00af00\">385,152</span> │ segmentation_input[<span style=\"color: #00af00; text-decoration-color: #00af00\">0</span>][<span style=\"color: #00af00; text-decoration-color: #00af00\">0</span>]   │\n",
              "│ (<span style=\"color: #0087ff; text-decoration-color: #0087ff\">Conv1D</span>)                  │                        │            │                            │\n",
              "├───────────────────────────┼────────────────────────┼────────────┼────────────────────────────┤\n",
              "│ segmentation_features_ba… │ (<span style=\"color: #00d7ff; text-decoration-color: #00d7ff\">None</span>, <span style=\"color: #00d7ff; text-decoration-color: #00d7ff\">None</span>, <span style=\"color: #00af00; text-decoration-color: #00af00\">128</span>)      │        <span style=\"color: #00af00; text-decoration-color: #00af00\">512</span> │ segmentation_features_con… │\n",
              "│ (<span style=\"color: #0087ff; text-decoration-color: #0087ff\">BatchNormalization</span>)      │                        │            │                            │\n",
              "├───────────────────────────┼────────────────────────┼────────────┼────────────────────────────┤\n",
              "│ segmentation_features_re… │ (<span style=\"color: #00d7ff; text-decoration-color: #00d7ff\">None</span>, <span style=\"color: #00d7ff; text-decoration-color: #00d7ff\">None</span>, <span style=\"color: #00af00; text-decoration-color: #00af00\">128</span>)      │          <span style=\"color: #00af00; text-decoration-color: #00af00\">0</span> │ segmentation_features_bat… │\n",
              "│ (<span style=\"color: #0087ff; text-decoration-color: #0087ff\">Activation</span>)              │                        │            │                            │\n",
              "├───────────────────────────┼────────────────────────┼────────────┼────────────────────────────┤\n",
              "│ segmentation_head         │ (<span style=\"color: #00d7ff; text-decoration-color: #00d7ff\">None</span>, <span style=\"color: #00d7ff; text-decoration-color: #00d7ff\">None</span>, <span style=\"color: #00af00; text-decoration-color: #00af00\">5</span>)        │        <span style=\"color: #00af00; text-decoration-color: #00af00\">645</span> │ segmentation_features_rel… │\n",
              "│ (<span style=\"color: #0087ff; text-decoration-color: #0087ff\">Conv1D</span>)                  │                        │            │                            │\n",
              "└───────────────────────────┴────────────────────────┴────────────┴────────────────────────────┘\n",
              "</pre>\n"
            ],
            "text/plain": [
              "┏━━━━━━━━━━━━━━━━━━━━━━━━━━━┳━━━━━━━━━━━━━━━━━━━━━━━━┳━━━━━━━━━━━━┳━━━━━━━━━━━━━━━━━━━━━━━━━━━━┓\n",
              "┃\u001b[1m \u001b[0m\u001b[1mLayer (type)             \u001b[0m\u001b[1m \u001b[0m┃\u001b[1m \u001b[0m\u001b[1mOutput Shape          \u001b[0m\u001b[1m \u001b[0m┃\u001b[1m \u001b[0m\u001b[1m   Param #\u001b[0m\u001b[1m \u001b[0m┃\u001b[1m \u001b[0m\u001b[1mConnected to              \u001b[0m\u001b[1m \u001b[0m┃\n",
              "┡━━━━━━━━━━━━━━━━━━━━━━━━━━━╇━━━━━━━━━━━━━━━━━━━━━━━━╇━━━━━━━━━━━━╇━━━━━━━━━━━━━━━━━━━━━━━━━━━━┩\n",
              "│ input_layer_4             │ (\u001b[38;5;45mNone\u001b[0m, \u001b[38;5;45mNone\u001b[0m, \u001b[38;5;34m3\u001b[0m)        │          \u001b[38;5;34m0\u001b[0m │ -                          │\n",
              "│ (\u001b[38;5;33mInputLayer\u001b[0m)              │                        │            │                            │\n",
              "├───────────────────────────┼────────────────────────┼────────────┼────────────────────────────┤\n",
              "│ input_transformation_blo… │ (\u001b[38;5;45mNone\u001b[0m, \u001b[38;5;45mNone\u001b[0m, \u001b[38;5;34m64\u001b[0m)       │        \u001b[38;5;34m256\u001b[0m │ input_layer_4[\u001b[38;5;34m0\u001b[0m][\u001b[38;5;34m0\u001b[0m]        │\n",
              "│ (\u001b[38;5;33mConv1D\u001b[0m)                  │                        │            │                            │\n",
              "├───────────────────────────┼────────────────────────┼────────────┼────────────────────────────┤\n",
              "│ input_transformation_blo… │ (\u001b[38;5;45mNone\u001b[0m, \u001b[38;5;45mNone\u001b[0m, \u001b[38;5;34m64\u001b[0m)       │        \u001b[38;5;34m256\u001b[0m │ input_transformation_bloc… │\n",
              "│ (\u001b[38;5;33mBatchNormalization\u001b[0m)      │                        │            │                            │\n",
              "├───────────────────────────┼────────────────────────┼────────────┼────────────────────────────┤\n",
              "│ input_transformation_blo… │ (\u001b[38;5;45mNone\u001b[0m, \u001b[38;5;45mNone\u001b[0m, \u001b[38;5;34m64\u001b[0m)       │          \u001b[38;5;34m0\u001b[0m │ input_transformation_bloc… │\n",
              "│ (\u001b[38;5;33mActivation\u001b[0m)              │                        │            │                            │\n",
              "├───────────────────────────┼────────────────────────┼────────────┼────────────────────────────┤\n",
              "│ input_transformation_blo… │ (\u001b[38;5;45mNone\u001b[0m, \u001b[38;5;45mNone\u001b[0m, \u001b[38;5;34m128\u001b[0m)      │      \u001b[38;5;34m8,320\u001b[0m │ input_transformation_bloc… │\n",
              "│ (\u001b[38;5;33mConv1D\u001b[0m)                  │                        │            │                            │\n",
              "├───────────────────────────┼────────────────────────┼────────────┼────────────────────────────┤\n",
              "│ input_transformation_blo… │ (\u001b[38;5;45mNone\u001b[0m, \u001b[38;5;45mNone\u001b[0m, \u001b[38;5;34m128\u001b[0m)      │        \u001b[38;5;34m512\u001b[0m │ input_transformation_bloc… │\n",
              "│ (\u001b[38;5;33mBatchNormalization\u001b[0m)      │                        │            │                            │\n",
              "├───────────────────────────┼────────────────────────┼────────────┼────────────────────────────┤\n",
              "│ input_transformation_blo… │ (\u001b[38;5;45mNone\u001b[0m, \u001b[38;5;45mNone\u001b[0m, \u001b[38;5;34m128\u001b[0m)      │          \u001b[38;5;34m0\u001b[0m │ input_transformation_bloc… │\n",
              "│ (\u001b[38;5;33mActivation\u001b[0m)              │                        │            │                            │\n",
              "├───────────────────────────┼────────────────────────┼────────────┼────────────────────────────┤\n",
              "│ input_transformation_blo… │ (\u001b[38;5;45mNone\u001b[0m, \u001b[38;5;45mNone\u001b[0m, \u001b[38;5;34m1024\u001b[0m)     │    \u001b[38;5;34m132,096\u001b[0m │ input_transformation_bloc… │\n",
              "│ (\u001b[38;5;33mConv1D\u001b[0m)                  │                        │            │                            │\n",
              "├───────────────────────────┼────────────────────────┼────────────┼────────────────────────────┤\n",
              "│ input_transformation_blo… │ (\u001b[38;5;45mNone\u001b[0m, \u001b[38;5;45mNone\u001b[0m, \u001b[38;5;34m1024\u001b[0m)     │      \u001b[38;5;34m4,096\u001b[0m │ input_transformation_bloc… │\n",
              "│ (\u001b[38;5;33mBatchNormalization\u001b[0m)      │                        │            │                            │\n",
              "├───────────────────────────┼────────────────────────┼────────────┼────────────────────────────┤\n",
              "│ input_transformation_blo… │ (\u001b[38;5;45mNone\u001b[0m, \u001b[38;5;45mNone\u001b[0m, \u001b[38;5;34m1024\u001b[0m)     │          \u001b[38;5;34m0\u001b[0m │ input_transformation_bloc… │\n",
              "│ (\u001b[38;5;33mActivation\u001b[0m)              │                        │            │                            │\n",
              "├───────────────────────────┼────────────────────────┼────────────┼────────────────────────────┤\n",
              "│ global_max_pooling1d_8    │ (\u001b[38;5;45mNone\u001b[0m, \u001b[38;5;34m1024\u001b[0m)           │          \u001b[38;5;34m0\u001b[0m │ input_transformation_bloc… │\n",
              "│ (\u001b[38;5;33mGlobalMaxPooling1D\u001b[0m)      │                        │            │                            │\n",
              "├───────────────────────────┼────────────────────────┼────────────┼────────────────────────────┤\n",
              "│ input_transformation_blo… │ (\u001b[38;5;45mNone\u001b[0m, \u001b[38;5;34m512\u001b[0m)            │    \u001b[38;5;34m524,800\u001b[0m │ global_max_pooling1d_8[\u001b[38;5;34m0\u001b[0m]… │\n",
              "│ (\u001b[38;5;33mDense\u001b[0m)                   │                        │            │                            │\n",
              "├───────────────────────────┼────────────────────────┼────────────┼────────────────────────────┤\n",
              "│ input_transformation_blo… │ (\u001b[38;5;45mNone\u001b[0m, \u001b[38;5;34m512\u001b[0m)            │      \u001b[38;5;34m2,048\u001b[0m │ input_transformation_bloc… │\n",
              "│ (\u001b[38;5;33mBatchNormalization\u001b[0m)      │                        │            │                            │\n",
              "├───────────────────────────┼────────────────────────┼────────────┼────────────────────────────┤\n",
              "│ input_transformation_blo… │ (\u001b[38;5;45mNone\u001b[0m, \u001b[38;5;34m512\u001b[0m)            │          \u001b[38;5;34m0\u001b[0m │ input_transformation_bloc… │\n",
              "│ (\u001b[38;5;33mActivation\u001b[0m)              │                        │            │                            │\n",
              "├───────────────────────────┼────────────────────────┼────────────┼────────────────────────────┤\n",
              "│ input_transformation_blo… │ (\u001b[38;5;45mNone\u001b[0m, \u001b[38;5;34m256\u001b[0m)            │    \u001b[38;5;34m131,328\u001b[0m │ input_transformation_bloc… │\n",
              "│ (\u001b[38;5;33mDense\u001b[0m)                   │                        │            │                            │\n",
              "├───────────────────────────┼────────────────────────┼────────────┼────────────────────────────┤\n",
              "│ input_transformation_blo… │ (\u001b[38;5;45mNone\u001b[0m, \u001b[38;5;34m256\u001b[0m)            │      \u001b[38;5;34m1,024\u001b[0m │ input_transformation_bloc… │\n",
              "│ (\u001b[38;5;33mBatchNormalization\u001b[0m)      │                        │            │                            │\n",
              "├───────────────────────────┼────────────────────────┼────────────┼────────────────────────────┤\n",
              "│ input_transformation_blo… │ (\u001b[38;5;45mNone\u001b[0m, \u001b[38;5;34m256\u001b[0m)            │          \u001b[38;5;34m0\u001b[0m │ input_transformation_bloc… │\n",
              "│ (\u001b[38;5;33mActivation\u001b[0m)              │                        │            │                            │\n",
              "├───────────────────────────┼────────────────────────┼────────────┼────────────────────────────┤\n",
              "│ input_transformation_blo… │ (\u001b[38;5;45mNone\u001b[0m, \u001b[38;5;34m9\u001b[0m)              │      \u001b[38;5;34m2,313\u001b[0m │ input_transformation_bloc… │\n",
              "│ (\u001b[38;5;33mDense\u001b[0m)                   │                        │            │                            │\n",
              "├───────────────────────────┼────────────────────────┼────────────┼────────────────────────────┤\n",
              "│ reshape_8 (\u001b[38;5;33mReshape\u001b[0m)       │ (\u001b[38;5;45mNone\u001b[0m, \u001b[38;5;34m3\u001b[0m, \u001b[38;5;34m3\u001b[0m)           │          \u001b[38;5;34m0\u001b[0m │ input_transformation_bloc… │\n",
              "├───────────────────────────┼────────────────────────┼────────────┼────────────────────────────┤\n",
              "│ input_transformation_blo… │ (\u001b[38;5;45mNone\u001b[0m, \u001b[38;5;45mNone\u001b[0m, \u001b[38;5;34m3\u001b[0m)        │          \u001b[38;5;34m0\u001b[0m │ input_layer_4[\u001b[38;5;34m0\u001b[0m][\u001b[38;5;34m0\u001b[0m],       │\n",
              "│ (\u001b[38;5;33mDot\u001b[0m)                     │                        │            │ reshape_8[\u001b[38;5;34m0\u001b[0m][\u001b[38;5;34m0\u001b[0m]            │\n",
              "├───────────────────────────┼────────────────────────┼────────────┼────────────────────────────┤\n",
              "│ features_64_conv (\u001b[38;5;33mConv1D\u001b[0m) │ (\u001b[38;5;45mNone\u001b[0m, \u001b[38;5;45mNone\u001b[0m, \u001b[38;5;34m64\u001b[0m)       │        \u001b[38;5;34m256\u001b[0m │ input_transformation_bloc… │\n",
              "├───────────────────────────┼────────────────────────┼────────────┼────────────────────────────┤\n",
              "│ features_64_batch_norm    │ (\u001b[38;5;45mNone\u001b[0m, \u001b[38;5;45mNone\u001b[0m, \u001b[38;5;34m64\u001b[0m)       │        \u001b[38;5;34m256\u001b[0m │ features_64_conv[\u001b[38;5;34m0\u001b[0m][\u001b[38;5;34m0\u001b[0m]     │\n",
              "│ (\u001b[38;5;33mBatchNormalization\u001b[0m)      │                        │            │                            │\n",
              "├───────────────────────────┼────────────────────────┼────────────┼────────────────────────────┤\n",
              "│ features_64_relu          │ (\u001b[38;5;45mNone\u001b[0m, \u001b[38;5;45mNone\u001b[0m, \u001b[38;5;34m64\u001b[0m)       │          \u001b[38;5;34m0\u001b[0m │ features_64_batch_norm[\u001b[38;5;34m0\u001b[0m]… │\n",
              "│ (\u001b[38;5;33mActivation\u001b[0m)              │                        │            │                            │\n",
              "├───────────────────────────┼────────────────────────┼────────────┼────────────────────────────┤\n",
              "│ features_128_1_conv       │ (\u001b[38;5;45mNone\u001b[0m, \u001b[38;5;45mNone\u001b[0m, \u001b[38;5;34m128\u001b[0m)      │      \u001b[38;5;34m8,320\u001b[0m │ features_64_relu[\u001b[38;5;34m0\u001b[0m][\u001b[38;5;34m0\u001b[0m]     │\n",
              "│ (\u001b[38;5;33mConv1D\u001b[0m)                  │                        │            │                            │\n",
              "├───────────────────────────┼────────────────────────┼────────────┼────────────────────────────┤\n",
              "│ features_128_1_batch_norm │ (\u001b[38;5;45mNone\u001b[0m, \u001b[38;5;45mNone\u001b[0m, \u001b[38;5;34m128\u001b[0m)      │        \u001b[38;5;34m512\u001b[0m │ features_128_1_conv[\u001b[38;5;34m0\u001b[0m][\u001b[38;5;34m0\u001b[0m]  │\n",
              "│ (\u001b[38;5;33mBatchNormalization\u001b[0m)      │                        │            │                            │\n",
              "├───────────────────────────┼────────────────────────┼────────────┼────────────────────────────┤\n",
              "│ features_128_1_relu       │ (\u001b[38;5;45mNone\u001b[0m, \u001b[38;5;45mNone\u001b[0m, \u001b[38;5;34m128\u001b[0m)      │          \u001b[38;5;34m0\u001b[0m │ features_128_1_batch_norm… │\n",
              "│ (\u001b[38;5;33mActivation\u001b[0m)              │                        │            │                            │\n",
              "├───────────────────────────┼────────────────────────┼────────────┼────────────────────────────┤\n",
              "│ features_128_2_conv       │ (\u001b[38;5;45mNone\u001b[0m, \u001b[38;5;45mNone\u001b[0m, \u001b[38;5;34m128\u001b[0m)      │     \u001b[38;5;34m16,512\u001b[0m │ features_128_1_relu[\u001b[38;5;34m0\u001b[0m][\u001b[38;5;34m0\u001b[0m]  │\n",
              "│ (\u001b[38;5;33mConv1D\u001b[0m)                  │                        │            │                            │\n",
              "├───────────────────────────┼────────────────────────┼────────────┼────────────────────────────┤\n",
              "│ features_128_2_batch_norm │ (\u001b[38;5;45mNone\u001b[0m, \u001b[38;5;45mNone\u001b[0m, \u001b[38;5;34m128\u001b[0m)      │        \u001b[38;5;34m512\u001b[0m │ features_128_2_conv[\u001b[38;5;34m0\u001b[0m][\u001b[38;5;34m0\u001b[0m]  │\n",
              "│ (\u001b[38;5;33mBatchNormalization\u001b[0m)      │                        │            │                            │\n",
              "├───────────────────────────┼────────────────────────┼────────────┼────────────────────────────┤\n",
              "│ features_128_2_relu       │ (\u001b[38;5;45mNone\u001b[0m, \u001b[38;5;45mNone\u001b[0m, \u001b[38;5;34m128\u001b[0m)      │          \u001b[38;5;34m0\u001b[0m │ features_128_2_batch_norm… │\n",
              "│ (\u001b[38;5;33mActivation\u001b[0m)              │                        │            │                            │\n",
              "├───────────────────────────┼────────────────────────┼────────────┼────────────────────────────┤\n",
              "│ transformed_features_1_c… │ (\u001b[38;5;45mNone\u001b[0m, \u001b[38;5;45mNone\u001b[0m, \u001b[38;5;34m64\u001b[0m)       │      \u001b[38;5;34m8,256\u001b[0m │ features_128_2_relu[\u001b[38;5;34m0\u001b[0m][\u001b[38;5;34m0\u001b[0m]  │\n",
              "│ (\u001b[38;5;33mConv1D\u001b[0m)                  │                        │            │                            │\n",
              "├───────────────────────────┼────────────────────────┼────────────┼────────────────────────────┤\n",
              "│ transformed_features_1_b… │ (\u001b[38;5;45mNone\u001b[0m, \u001b[38;5;45mNone\u001b[0m, \u001b[38;5;34m64\u001b[0m)       │        \u001b[38;5;34m256\u001b[0m │ transformed_features_1_co… │\n",
              "│ (\u001b[38;5;33mBatchNormalization\u001b[0m)      │                        │            │                            │\n",
              "├───────────────────────────┼────────────────────────┼────────────┼────────────────────────────┤\n",
              "│ transformed_features_1_r… │ (\u001b[38;5;45mNone\u001b[0m, \u001b[38;5;45mNone\u001b[0m, \u001b[38;5;34m64\u001b[0m)       │          \u001b[38;5;34m0\u001b[0m │ transformed_features_1_ba… │\n",
              "│ (\u001b[38;5;33mActivation\u001b[0m)              │                        │            │                            │\n",
              "├───────────────────────────┼────────────────────────┼────────────┼────────────────────────────┤\n",
              "│ transformed_features_2_c… │ (\u001b[38;5;45mNone\u001b[0m, \u001b[38;5;45mNone\u001b[0m, \u001b[38;5;34m128\u001b[0m)      │      \u001b[38;5;34m8,320\u001b[0m │ transformed_features_1_re… │\n",
              "│ (\u001b[38;5;33mConv1D\u001b[0m)                  │                        │            │                            │\n",
              "├───────────────────────────┼────────────────────────┼────────────┼────────────────────────────┤\n",
              "│ transformed_features_2_b… │ (\u001b[38;5;45mNone\u001b[0m, \u001b[38;5;45mNone\u001b[0m, \u001b[38;5;34m128\u001b[0m)      │        \u001b[38;5;34m512\u001b[0m │ transformed_features_2_co… │\n",
              "│ (\u001b[38;5;33mBatchNormalization\u001b[0m)      │                        │            │                            │\n",
              "├───────────────────────────┼────────────────────────┼────────────┼────────────────────────────┤\n",
              "│ transformed_features_2_r… │ (\u001b[38;5;45mNone\u001b[0m, \u001b[38;5;45mNone\u001b[0m, \u001b[38;5;34m128\u001b[0m)      │          \u001b[38;5;34m0\u001b[0m │ transformed_features_2_ba… │\n",
              "│ (\u001b[38;5;33mActivation\u001b[0m)              │                        │            │                            │\n",
              "├───────────────────────────┼────────────────────────┼────────────┼────────────────────────────┤\n",
              "│ transformed_features_3_c… │ (\u001b[38;5;45mNone\u001b[0m, \u001b[38;5;45mNone\u001b[0m, \u001b[38;5;34m1024\u001b[0m)     │    \u001b[38;5;34m132,096\u001b[0m │ transformed_features_2_re… │\n",
              "│ (\u001b[38;5;33mConv1D\u001b[0m)                  │                        │            │                            │\n",
              "├───────────────────────────┼────────────────────────┼────────────┼────────────────────────────┤\n",
              "│ transformed_features_3_b… │ (\u001b[38;5;45mNone\u001b[0m, \u001b[38;5;45mNone\u001b[0m, \u001b[38;5;34m1024\u001b[0m)     │      \u001b[38;5;34m4,096\u001b[0m │ transformed_features_3_co… │\n",
              "│ (\u001b[38;5;33mBatchNormalization\u001b[0m)      │                        │            │                            │\n",
              "├───────────────────────────┼────────────────────────┼────────────┼────────────────────────────┤\n",
              "│ transformed_features_3_r… │ (\u001b[38;5;45mNone\u001b[0m, \u001b[38;5;45mNone\u001b[0m, \u001b[38;5;34m1024\u001b[0m)     │          \u001b[38;5;34m0\u001b[0m │ transformed_features_3_ba… │\n",
              "│ (\u001b[38;5;33mActivation\u001b[0m)              │                        │            │                            │\n",
              "├───────────────────────────┼────────────────────────┼────────────┼────────────────────────────┤\n",
              "│ global_max_pooling1d_9    │ (\u001b[38;5;45mNone\u001b[0m, \u001b[38;5;34m1024\u001b[0m)           │          \u001b[38;5;34m0\u001b[0m │ transformed_features_3_re… │\n",
              "│ (\u001b[38;5;33mGlobalMaxPooling1D\u001b[0m)      │                        │            │                            │\n",
              "├───────────────────────────┼────────────────────────┼────────────┼────────────────────────────┤\n",
              "│ transformed_features_1_1… │ (\u001b[38;5;45mNone\u001b[0m, \u001b[38;5;34m512\u001b[0m)            │    \u001b[38;5;34m524,800\u001b[0m │ global_max_pooling1d_9[\u001b[38;5;34m0\u001b[0m]… │\n",
              "│ (\u001b[38;5;33mDense\u001b[0m)                   │                        │            │                            │\n",
              "├───────────────────────────┼────────────────────────┼────────────┼────────────────────────────┤\n",
              "│ transformed_features_1_1… │ (\u001b[38;5;45mNone\u001b[0m, \u001b[38;5;34m512\u001b[0m)            │      \u001b[38;5;34m2,048\u001b[0m │ transformed_features_1_1_… │\n",
              "│ (\u001b[38;5;33mBatchNormalization\u001b[0m)      │                        │            │                            │\n",
              "├───────────────────────────┼────────────────────────┼────────────┼────────────────────────────┤\n",
              "│ transformed_features_1_1… │ (\u001b[38;5;45mNone\u001b[0m, \u001b[38;5;34m512\u001b[0m)            │          \u001b[38;5;34m0\u001b[0m │ transformed_features_1_1_… │\n",
              "│ (\u001b[38;5;33mActivation\u001b[0m)              │                        │            │                            │\n",
              "├───────────────────────────┼────────────────────────┼────────────┼────────────────────────────┤\n",
              "│ transformed_features_2_1… │ (\u001b[38;5;45mNone\u001b[0m, \u001b[38;5;34m256\u001b[0m)            │    \u001b[38;5;34m131,328\u001b[0m │ transformed_features_1_1_… │\n",
              "│ (\u001b[38;5;33mDense\u001b[0m)                   │                        │            │                            │\n",
              "├───────────────────────────┼────────────────────────┼────────────┼────────────────────────────┤\n",
              "│ transformed_features_2_1… │ (\u001b[38;5;45mNone\u001b[0m, \u001b[38;5;34m256\u001b[0m)            │      \u001b[38;5;34m1,024\u001b[0m │ transformed_features_2_1_… │\n",
              "│ (\u001b[38;5;33mBatchNormalization\u001b[0m)      │                        │            │                            │\n",
              "├───────────────────────────┼────────────────────────┼────────────┼────────────────────────────┤\n",
              "│ transformed_features_2_1… │ (\u001b[38;5;45mNone\u001b[0m, \u001b[38;5;34m256\u001b[0m)            │          \u001b[38;5;34m0\u001b[0m │ transformed_features_2_1_… │\n",
              "│ (\u001b[38;5;33mActivation\u001b[0m)              │                        │            │                            │\n",
              "├───────────────────────────┼────────────────────────┼────────────┼────────────────────────────┤\n",
              "│ transformed_features_fin… │ (\u001b[38;5;45mNone\u001b[0m, \u001b[38;5;34m16384\u001b[0m)          │  \u001b[38;5;34m4,210,688\u001b[0m │ transformed_features_2_1_… │\n",
              "│ (\u001b[38;5;33mDense\u001b[0m)                   │                        │            │                            │\n",
              "├───────────────────────────┼────────────────────────┼────────────┼────────────────────────────┤\n",
              "│ reshape_9 (\u001b[38;5;33mReshape\u001b[0m)       │ (\u001b[38;5;45mNone\u001b[0m, \u001b[38;5;34m128\u001b[0m, \u001b[38;5;34m128\u001b[0m)       │          \u001b[38;5;34m0\u001b[0m │ transformed_features_fina… │\n",
              "├───────────────────────────┼────────────────────────┼────────────┼────────────────────────────┤\n",
              "│ transformed_features_mm   │ (\u001b[38;5;45mNone\u001b[0m, \u001b[38;5;45mNone\u001b[0m, \u001b[38;5;34m128\u001b[0m)      │          \u001b[38;5;34m0\u001b[0m │ features_128_2_relu[\u001b[38;5;34m0\u001b[0m][\u001b[38;5;34m0\u001b[0m], │\n",
              "│ (\u001b[38;5;33mDot\u001b[0m)                     │                        │            │ reshape_9[\u001b[38;5;34m0\u001b[0m][\u001b[38;5;34m0\u001b[0m]            │\n",
              "├───────────────────────────┼────────────────────────┼────────────┼────────────────────────────┤\n",
              "│ features_512_conv         │ (\u001b[38;5;45mNone\u001b[0m, \u001b[38;5;45mNone\u001b[0m, \u001b[38;5;34m512\u001b[0m)      │     \u001b[38;5;34m66,048\u001b[0m │ transformed_features_mm[\u001b[38;5;34m0\u001b[0m… │\n",
              "│ (\u001b[38;5;33mConv1D\u001b[0m)                  │                        │            │                            │\n",
              "├───────────────────────────┼────────────────────────┼────────────┼────────────────────────────┤\n",
              "│ features_512_batch_norm   │ (\u001b[38;5;45mNone\u001b[0m, \u001b[38;5;45mNone\u001b[0m, \u001b[38;5;34m512\u001b[0m)      │      \u001b[38;5;34m2,048\u001b[0m │ features_512_conv[\u001b[38;5;34m0\u001b[0m][\u001b[38;5;34m0\u001b[0m]    │\n",
              "│ (\u001b[38;5;33mBatchNormalization\u001b[0m)      │                        │            │                            │\n",
              "├───────────────────────────┼────────────────────────┼────────────┼────────────────────────────┤\n",
              "│ features_512_relu         │ (\u001b[38;5;45mNone\u001b[0m, \u001b[38;5;45mNone\u001b[0m, \u001b[38;5;34m512\u001b[0m)      │          \u001b[38;5;34m0\u001b[0m │ features_512_batch_norm[\u001b[38;5;34m0\u001b[0m… │\n",
              "│ (\u001b[38;5;33mActivation\u001b[0m)              │                        │            │                            │\n",
              "├───────────────────────────┼────────────────────────┼────────────┼────────────────────────────┤\n",
              "│ pre_maxpool_block_conv    │ (\u001b[38;5;45mNone\u001b[0m, \u001b[38;5;45mNone\u001b[0m, \u001b[38;5;34m2048\u001b[0m)     │  \u001b[38;5;34m1,050,624\u001b[0m │ features_512_relu[\u001b[38;5;34m0\u001b[0m][\u001b[38;5;34m0\u001b[0m]    │\n",
              "│ (\u001b[38;5;33mConv1D\u001b[0m)                  │                        │            │                            │\n",
              "├───────────────────────────┼────────────────────────┼────────────┼────────────────────────────┤\n",
              "│ pre_maxpool_block_batch_… │ (\u001b[38;5;45mNone\u001b[0m, \u001b[38;5;45mNone\u001b[0m, \u001b[38;5;34m2048\u001b[0m)     │      \u001b[38;5;34m8,192\u001b[0m │ pre_maxpool_block_conv[\u001b[38;5;34m0\u001b[0m]… │\n",
              "│ (\u001b[38;5;33mBatchNormalization\u001b[0m)      │                        │            │                            │\n",
              "├───────────────────────────┼────────────────────────┼────────────┼────────────────────────────┤\n",
              "│ pre_maxpool_block_relu    │ (\u001b[38;5;45mNone\u001b[0m, \u001b[38;5;45mNone\u001b[0m, \u001b[38;5;34m2048\u001b[0m)     │          \u001b[38;5;34m0\u001b[0m │ pre_maxpool_block_batch_n… │\n",
              "│ (\u001b[38;5;33mActivation\u001b[0m)              │                        │            │                            │\n",
              "├───────────────────────────┼────────────────────────┼────────────┼────────────────────────────┤\n",
              "│ global_features           │ (\u001b[38;5;45mNone\u001b[0m, \u001b[38;5;45mNone\u001b[0m, \u001b[38;5;34m2048\u001b[0m)     │          \u001b[38;5;34m0\u001b[0m │ pre_maxpool_block_relu[\u001b[38;5;34m0\u001b[0m]… │\n",
              "│ (\u001b[38;5;33mMaxPooling1D\u001b[0m)            │                        │            │                            │\n",
              "├───────────────────────────┼────────────────────────┼────────────┼────────────────────────────┤\n",
              "│ tile_4 (\u001b[38;5;33mTile\u001b[0m)             │ (\u001b[38;5;45mNone\u001b[0m, \u001b[38;5;45mNone\u001b[0m, \u001b[38;5;34m2048\u001b[0m)     │          \u001b[38;5;34m0\u001b[0m │ global_features[\u001b[38;5;34m0\u001b[0m][\u001b[38;5;34m0\u001b[0m]      │\n",
              "├───────────────────────────┼────────────────────────┼────────────┼────────────────────────────┤\n",
              "│ segmentation_input        │ (\u001b[38;5;45mNone\u001b[0m, \u001b[38;5;45mNone\u001b[0m, \u001b[38;5;34m3008\u001b[0m)     │          \u001b[38;5;34m0\u001b[0m │ features_64_relu[\u001b[38;5;34m0\u001b[0m][\u001b[38;5;34m0\u001b[0m],    │\n",
              "│ (\u001b[38;5;33mConcatenate\u001b[0m)             │                        │            │ features_128_1_relu[\u001b[38;5;34m0\u001b[0m][\u001b[38;5;34m0\u001b[0m], │\n",
              "│                           │                        │            │ features_128_2_relu[\u001b[38;5;34m0\u001b[0m][\u001b[38;5;34m0\u001b[0m], │\n",
              "│                           │                        │            │ transformed_features_mm[\u001b[38;5;34m0\u001b[0m… │\n",
              "│                           │                        │            │ features_512_relu[\u001b[38;5;34m0\u001b[0m][\u001b[38;5;34m0\u001b[0m],   │\n",
              "│                           │                        │            │ tile_4[\u001b[38;5;34m0\u001b[0m][\u001b[38;5;34m0\u001b[0m]               │\n",
              "├───────────────────────────┼────────────────────────┼────────────┼────────────────────────────┤\n",
              "│ segmentation_features_co… │ (\u001b[38;5;45mNone\u001b[0m, \u001b[38;5;45mNone\u001b[0m, \u001b[38;5;34m128\u001b[0m)      │    \u001b[38;5;34m385,152\u001b[0m │ segmentation_input[\u001b[38;5;34m0\u001b[0m][\u001b[38;5;34m0\u001b[0m]   │\n",
              "│ (\u001b[38;5;33mConv1D\u001b[0m)                  │                        │            │                            │\n",
              "├───────────────────────────┼────────────────────────┼────────────┼────────────────────────────┤\n",
              "│ segmentation_features_ba… │ (\u001b[38;5;45mNone\u001b[0m, \u001b[38;5;45mNone\u001b[0m, \u001b[38;5;34m128\u001b[0m)      │        \u001b[38;5;34m512\u001b[0m │ segmentation_features_con… │\n",
              "│ (\u001b[38;5;33mBatchNormalization\u001b[0m)      │                        │            │                            │\n",
              "├───────────────────────────┼────────────────────────┼────────────┼────────────────────────────┤\n",
              "│ segmentation_features_re… │ (\u001b[38;5;45mNone\u001b[0m, \u001b[38;5;45mNone\u001b[0m, \u001b[38;5;34m128\u001b[0m)      │          \u001b[38;5;34m0\u001b[0m │ segmentation_features_bat… │\n",
              "│ (\u001b[38;5;33mActivation\u001b[0m)              │                        │            │                            │\n",
              "├───────────────────────────┼────────────────────────┼────────────┼────────────────────────────┤\n",
              "│ segmentation_head         │ (\u001b[38;5;45mNone\u001b[0m, \u001b[38;5;45mNone\u001b[0m, \u001b[38;5;34m5\u001b[0m)        │        \u001b[38;5;34m645\u001b[0m │ segmentation_features_rel… │\n",
              "│ (\u001b[38;5;33mConv1D\u001b[0m)                  │                        │            │                            │\n",
              "└───────────────────────────┴────────────────────────┴────────────┴────────────────────────────┘\n"
            ]
          },
          "metadata": {},
          "output_type": "display_data"
        },
        {
          "data": {
            "text/html": [
              "<pre style=\"white-space:pre;overflow-x:auto;line-height:normal;font-family:Menlo,'DejaVu Sans Mono',consolas,'Courier New',monospace\"><span style=\"font-weight: bold\"> Total params: </span><span style=\"color: #00af00; text-decoration-color: #00af00\">7,370,062</span> (28.11 MB)\n",
              "</pre>\n"
            ],
            "text/plain": [
              "\u001b[1m Total params: \u001b[0m\u001b[38;5;34m7,370,062\u001b[0m (28.11 MB)\n"
            ]
          },
          "metadata": {},
          "output_type": "display_data"
        },
        {
          "data": {
            "text/html": [
              "<pre style=\"white-space:pre;overflow-x:auto;line-height:normal;font-family:Menlo,'DejaVu Sans Mono',consolas,'Courier New',monospace\"><span style=\"font-weight: bold\"> Trainable params: </span><span style=\"color: #00af00; text-decoration-color: #00af00\">7,356,110</span> (28.06 MB)\n",
              "</pre>\n"
            ],
            "text/plain": [
              "\u001b[1m Trainable params: \u001b[0m\u001b[38;5;34m7,356,110\u001b[0m (28.06 MB)\n"
            ]
          },
          "metadata": {},
          "output_type": "display_data"
        },
        {
          "data": {
            "text/html": [
              "<pre style=\"white-space:pre;overflow-x:auto;line-height:normal;font-family:Menlo,'DejaVu Sans Mono',consolas,'Courier New',monospace\"><span style=\"font-weight: bold\"> Non-trainable params: </span><span style=\"color: #00af00; text-decoration-color: #00af00\">13,952</span> (54.50 KB)\n",
              "</pre>\n"
            ],
            "text/plain": [
              "\u001b[1m Non-trainable params: \u001b[0m\u001b[38;5;34m13,952\u001b[0m (54.50 KB)\n"
            ]
          },
          "metadata": {},
          "output_type": "display_data"
        }
      ],
      "source": [
        "x, y = next(iter(train_dataset))\n",
        "\n",
        "num_points = x.shape[1]\n",
        "num_classes = y.shape[-1]\n",
        "\n",
        "segmentation_model = get_shape_segmentation_model(num_points, num_classes)\n",
        "segmentation_model.summary()"
      ]
    },
    {
      "cell_type": "code",
      "execution_count": null,
      "metadata": {
        "colab": {
          "base_uri": "https://localhost:8080/",
          "height": 484
        },
        "id": "IyC5cNV9EyZH",
        "outputId": "8b29d0b2-78fb-4ac4-8efb-08f266b552de"
      },
      "outputs": [
        {
          "name": "stdout",
          "output_type": "stream",
          "text": [
            "Steps per epoch: 92.\n",
            "Total training steps: 9200.\n"
          ]
        },
        {
          "data": {
            "image/png": "[encoded data removed]",
            "text/plain": [
              "<Figure size 640x480 with 1 Axes>"
            ]
          },
          "metadata": {},
          "output_type": "display_data"
        }
      ],
      "source": [
        "steps_per_epoch = total_training_examples // BATCH_SIZE\n",
        "total_training_steps = steps_per_epoch * EPOCHS\n",
        "print(f\"Steps per epoch: {steps_per_epoch}.\")\n",
        "print(f\"Total training steps: {total_training_steps}.\")\n",
        "\n",
        "lr_schedule = keras.optimizers.schedules.ExponentialDecay(\n",
        "    initial_learning_rate=0.003,\n",
        "    decay_steps=steps_per_epoch * 5,\n",
        "    decay_rate=0.5,\n",
        "    staircase=True,\n",
        ")\n",
        "\n",
        "steps = range(total_training_steps)\n",
        "lrs = [lr_schedule(step) for step in steps]\n",
        "\n",
        "plt.plot(lrs)\n",
        "plt.xlabel(\"Steps\")\n",
        "plt.ylabel(\"Learning Rate\")\n",
        "plt.show()"
      ]
    },
    {
      "cell_type": "code",
      "execution_count": null,
      "metadata": {
        "colab": {
          "base_uri": "https://localhost:8080/"
        },
        "id": "ag8NSpeFEyMR",
        "outputId": "2ed0ebfb-f123-4151-83aa-180b6d20f5bd"
      },
      "outputs": [
        {
          "name": "stdout",
          "output_type": "stream",
          "text": [
            "Epoch 1/100\n",
            "\u001b[1m93/93\u001b[0m \u001b[32m━━━━━━━━━━━━━━━━━━━━\u001b[0m\u001b[37m\u001b[0m \u001b[1m59s\u001b[0m 422ms/step - accuracy: 0.3746 - loss: 36938.5312 - val_accuracy: 0.4472 - val_loss: 736000.1875\n",
            "Epoch 2/100\n",
            "\u001b[1m93/93\u001b[0m \u001b[32m━━━━━━━━━━━━━━━━━━━━\u001b[0m\u001b[37m\u001b[0m \u001b[1m21s\u001b[0m 224ms/step - accuracy: 0.5449 - loss: 202.2796 - val_accuracy: 0.5309 - val_loss: 950647.1875\n",
            "Epoch 3/100\n",
            "\u001b[1m93/93\u001b[0m \u001b[32m━━━━━━━━━━━━━━━━━━━━\u001b[0m\u001b[37m\u001b[0m \u001b[1m41s\u001b[0m 225ms/step - accuracy: 0.6114 - loss: 191.3174 - val_accuracy: 0.4427 - val_loss: 734612.0625\n",
            "Epoch 4/100\n",
            "\u001b[1m93/93\u001b[0m \u001b[32m━━━━━━━━━━━━━━━━━━━━\u001b[0m\u001b[37m\u001b[0m \u001b[1m41s\u001b[0m 229ms/step - accuracy: 0.6481 - loss: 185.1582 - val_accuracy: 0.4700 - val_loss: 232764.4219\n",
            "Epoch 5/100\n",
            "\u001b[1m93/93\u001b[0m \u001b[32m━━━━━━━━━━━━━━━━━━━━\u001b[0m\u001b[37m\u001b[0m \u001b[1m41s\u001b[0m 229ms/step - accuracy: 0.6533 - loss: 180.8791 - val_accuracy: 0.4614 - val_loss: 977.7791\n",
            "Epoch 6/100\n",
            "\u001b[1m93/93\u001b[0m \u001b[32m━━━━━━━━━━━━━━━━━━━━\u001b[0m\u001b[37m\u001b[0m \u001b[1m40s\u001b[0m 222ms/step - accuracy: 0.6569 - loss: 175.0045 - val_accuracy: 0.5402 - val_loss: 1458.8101\n",
            "Epoch 7/100\n",
            "\u001b[1m93/93\u001b[0m \u001b[32m━━━━━━━━━━━━━━━━━━━━\u001b[0m\u001b[37m\u001b[0m \u001b[1m41s\u001b[0m 226ms/step - accuracy: 0.6577 - loss: 177.4762 - val_accuracy: 0.4028 - val_loss: 6769.5024\n",
            "Epoch 8/100\n",
            "\u001b[1m93/93\u001b[0m \u001b[32m━━━━━━━━━━━━━━━━━━━━\u001b[0m\u001b[37m\u001b[0m \u001b[1m41s\u001b[0m 222ms/step - accuracy: 0.6713 - loss: 174.6833 - val_accuracy: 0.4134 - val_loss: 55642.3867\n",
            "Epoch 9/100\n",
            "\u001b[1m93/93\u001b[0m \u001b[32m━━━━━━━━━━━━━━━━━━━━\u001b[0m\u001b[37m\u001b[0m \u001b[1m41s\u001b[0m 223ms/step - accuracy: 0.6674 - loss: 175.1683 - val_accuracy: 0.1237 - val_loss: 176691.5000\n",
            "Epoch 10/100\n",
            "\u001b[1m93/93\u001b[0m \u001b[32m━━━━━━━━━━━━━━━━━━━━\u001b[0m\u001b[37m\u001b[0m \u001b[1m41s\u001b[0m 223ms/step - accuracy: 0.6649 - loss: 174.3568 - val_accuracy: 0.0992 - val_loss: 395994.6562\n",
            "Epoch 11/100\n",
            "\u001b[1m93/93\u001b[0m \u001b[32m━━━━━━━━━━━━━━━━━━━━\u001b[0m\u001b[37m\u001b[0m \u001b[1m41s\u001b[0m 223ms/step - accuracy: 0.6753 - loss: 170.7594 - val_accuracy: 0.3296 - val_loss: 54738.9648\n",
            "Epoch 12/100\n",
            "\u001b[1m93/93\u001b[0m \u001b[32m━━━━━━━━━━━━━━━━━━━━\u001b[0m\u001b[37m\u001b[0m \u001b[1m41s\u001b[0m 223ms/step - accuracy: 0.6789 - loss: 169.6205 - val_accuracy: 0.1592 - val_loss: 13012.0264\n",
            "Epoch 13/100\n",
            "\u001b[1m93/93\u001b[0m \u001b[32m━━━━━━━━━━━━━━━━━━━━\u001b[0m\u001b[37m\u001b[0m \u001b[1m41s\u001b[0m 225ms/step - accuracy: 0.6770 - loss: 168.3663 - val_accuracy: 0.0861 - val_loss: 16046.1719\n",
            "Epoch 14/100\n",
            "\u001b[1m93/93\u001b[0m \u001b[32m━━━━━━━━━━━━━━━━━━━━\u001b[0m\u001b[37m\u001b[0m \u001b[1m41s\u001b[0m 223ms/step - accuracy: 0.6805 - loss: 167.2445 - val_accuracy: 0.1989 - val_loss: 38436.0117\n",
            "Epoch 15/100\n",
            "\u001b[1m93/93\u001b[0m \u001b[32m━━━━━━━━━━━━━━━━━━━━\u001b[0m\u001b[37m\u001b[0m \u001b[1m41s\u001b[0m 226ms/step - accuracy: 0.6797 - loss: 165.2674 - val_accuracy: 0.2919 - val_loss: 17269.5352\n",
            "Epoch 16/100\n",
            "\u001b[1m93/93\u001b[0m \u001b[32m━━━━━━━━━━━━━━━━━━━━\u001b[0m\u001b[37m\u001b[0m \u001b[1m41s\u001b[0m 226ms/step - accuracy: 0.6873 - loss: 163.6112 - val_accuracy: 0.2837 - val_loss: 1967.9437\n",
            "Epoch 17/100\n",
            "\u001b[1m93/93\u001b[0m \u001b[32m━━━━━━━━━━━━━━━━━━━━\u001b[0m\u001b[37m\u001b[0m \u001b[1m21s\u001b[0m 231ms/step - accuracy: 0.6837 - loss: 164.6841 - val_accuracy: 0.6488 - val_loss: 604.5255\n",
            "Epoch 18/100\n",
            "\u001b[1m93/93\u001b[0m \u001b[32m━━━━━━━━━━━━━━━━━━━━\u001b[0m\u001b[37m\u001b[0m \u001b[1m21s\u001b[0m 229ms/step - accuracy: 0.6863 - loss: 164.5479 - val_accuracy: 0.5544 - val_loss: 887.6284\n",
            "Epoch 19/100\n",
            "\u001b[1m93/93\u001b[0m \u001b[32m━━━━━━━━━━━━━━━━━━━━\u001b[0m\u001b[37m\u001b[0m \u001b[1m41s\u001b[0m 226ms/step - accuracy: 0.6926 - loss: 163.8559 - val_accuracy: 0.2395 - val_loss: 913.9167\n",
            "Epoch 20/100\n",
            "\u001b[1m93/93\u001b[0m \u001b[32m━━━━━━━━━━━━━━━━━━━━\u001b[0m\u001b[37m\u001b[0m \u001b[1m42s\u001b[0m 233ms/step - accuracy: 0.6893 - loss: 162.5877 - val_accuracy: 0.4359 - val_loss: 419.7932\n",
            "Epoch 21/100\n",
            "\u001b[1m93/93\u001b[0m \u001b[32m━━━━━━━━━━━━━━━━━━━━\u001b[0m\u001b[37m\u001b[0m \u001b[1m41s\u001b[0m 230ms/step - accuracy: 0.6926 - loss: 161.1523 - val_accuracy: 0.4600 - val_loss: 315.8387\n",
            "Epoch 22/100\n",
            "\u001b[1m93/93\u001b[0m \u001b[32m━━━━━━━━━━━━━━━━━━━━\u001b[0m\u001b[37m\u001b[0m \u001b[1m41s\u001b[0m 229ms/step - accuracy: 0.6960 - loss: 160.2839 - val_accuracy: 0.7012 - val_loss: 240.5092\n",
            "Epoch 23/100\n",
            "\u001b[1m93/93\u001b[0m \u001b[32m━━━━━━━━━━━━━━━━━━━━\u001b[0m\u001b[37m\u001b[0m \u001b[1m40s\u001b[0m 224ms/step - accuracy: 0.6963 - loss: 160.6509 - val_accuracy: 0.6195 - val_loss: 280.9820\n",
            "Epoch 24/100\n",
            "\u001b[1m93/93\u001b[0m \u001b[32m━━━━━━━━━━━━━━━━━━━━\u001b[0m\u001b[37m\u001b[0m \u001b[1m41s\u001b[0m 229ms/step - accuracy: 0.6906 - loss: 159.9875 - val_accuracy: 0.5613 - val_loss: 236.9809\n",
            "Epoch 25/100\n",
            "\u001b[1m93/93\u001b[0m \u001b[32m━━━━━━━━━━━━━━━━━━━━\u001b[0m\u001b[37m\u001b[0m \u001b[1m41s\u001b[0m 228ms/step - accuracy: 0.6932 - loss: 159.8881 - val_accuracy: 0.6477 - val_loss: 216.8782\n",
            "Epoch 26/100\n",
            "\u001b[1m93/93\u001b[0m \u001b[32m━━━━━━━━━━━━━━━━━━━━\u001b[0m\u001b[37m\u001b[0m \u001b[1m41s\u001b[0m 232ms/step - accuracy: 0.6991 - loss: 160.1942 - val_accuracy: 0.6966 - val_loss: 210.8641\n",
            "Epoch 27/100\n",
            "\u001b[1m93/93\u001b[0m \u001b[32m━━━━━━━━━━━━━━━━━━━━\u001b[0m\u001b[37m\u001b[0m \u001b[1m41s\u001b[0m 231ms/step - accuracy: 0.6973 - loss: 159.6685 - val_accuracy: 0.7367 - val_loss: 203.1727\n",
            "Epoch 28/100\n",
            "\u001b[1m93/93\u001b[0m \u001b[32m━━━━━━━━━━━━━━━━━━━━\u001b[0m\u001b[37m\u001b[0m \u001b[1m21s\u001b[0m 231ms/step - accuracy: 0.7007 - loss: 158.7852 - val_accuracy: 0.6786 - val_loss: 180.7476\n",
            "Epoch 29/100\n",
            "\u001b[1m93/93\u001b[0m \u001b[32m━━━━━━━━━━━━━━━━━━━━\u001b[0m\u001b[37m\u001b[0m \u001b[1m22s\u001b[0m 234ms/step - accuracy: 0.7004 - loss: 159.3690 - val_accuracy: 0.6978 - val_loss: 168.7798\n",
            "Epoch 30/100\n",
            "\u001b[1m93/93\u001b[0m \u001b[32m━━━━━━━━━━━━━━━━━━━━\u001b[0m\u001b[37m\u001b[0m \u001b[1m40s\u001b[0m 224ms/step - accuracy: 0.6936 - loss: 159.2123 - val_accuracy: 0.6791 - val_loss: 178.5333\n",
            "Epoch 31/100\n",
            "\u001b[1m93/93\u001b[0m \u001b[32m━━━━━━━━━━━━━━━━━━━━\u001b[0m\u001b[37m\u001b[0m \u001b[1m21s\u001b[0m 227ms/step - accuracy: 0.7026 - loss: 158.7515 - val_accuracy: 0.6952 - val_loss: 185.0218\n",
            "Epoch 32/100\n",
            "\u001b[1m93/93\u001b[0m \u001b[32m━━━━━━━━━━━━━━━━━━━━\u001b[0m\u001b[37m\u001b[0m \u001b[1m41s\u001b[0m 227ms/step - accuracy: 0.6982 - loss: 159.0240 - val_accuracy: 0.6825 - val_loss: 177.6241\n",
            "Epoch 33/100\n",
            "\u001b[1m93/93\u001b[0m \u001b[32m━━━━━━━━━━━━━━━━━━━━\u001b[0m\u001b[37m\u001b[0m \u001b[1m41s\u001b[0m 231ms/step - accuracy: 0.7004 - loss: 159.0938 - val_accuracy: 0.6769 - val_loss: 175.4499\n",
            "Epoch 34/100\n",
            "\u001b[1m93/93\u001b[0m \u001b[32m━━━━━━━━━━━━━━━━━━━━\u001b[0m\u001b[37m\u001b[0m \u001b[1m41s\u001b[0m 236ms/step - accuracy: 0.7001 - loss: 158.8728 - val_accuracy: 0.7025 - val_loss: 173.7071\n",
            "Epoch 35/100\n",
            "\u001b[1m93/93\u001b[0m \u001b[32m━━━━━━━━━━━━━━━━━━━━\u001b[0m\u001b[37m\u001b[0m \u001b[1m22s\u001b[0m 238ms/step - accuracy: 0.7065 - loss: 158.6157 - val_accuracy: 0.7145 - val_loss: 161.9222\n",
            "Epoch 36/100\n",
            "\u001b[1m93/93\u001b[0m \u001b[32m━━━━━━━━━━━━━━━━━━━━\u001b[0m\u001b[37m\u001b[0m \u001b[1m41s\u001b[0m 235ms/step - accuracy: 0.7054 - loss: 158.6010 - val_accuracy: 0.7168 - val_loss: 156.5657\n",
            "Epoch 37/100\n",
            "\u001b[1m93/93\u001b[0m \u001b[32m━━━━━━━━━━━━━━━━━━━━\u001b[0m\u001b[37m\u001b[0m \u001b[1m41s\u001b[0m 240ms/step - accuracy: 0.7047 - loss: 158.5994 - val_accuracy: 0.7156 - val_loss: 155.0890\n",
            "Epoch 38/100\n",
            "\u001b[1m93/93\u001b[0m \u001b[32m━━━━━━━━━━━━━━━━━━━━\u001b[0m\u001b[37m\u001b[0m \u001b[1m40s\u001b[0m 233ms/step - accuracy: 0.7060 - loss: 158.9997 - val_accuracy: 0.7148 - val_loss: 156.3905\n",
            "Epoch 39/100\n",
            "\u001b[1m93/93\u001b[0m \u001b[32m━━━━━━━━━━━━━━━━━━━━\u001b[0m\u001b[37m\u001b[0m \u001b[1m22s\u001b[0m 236ms/step - accuracy: 0.6988 - loss: 159.8913 - val_accuracy: 0.7065 - val_loss: 157.5338\n",
            "Epoch 40/100\n",
            "\u001b[1m93/93\u001b[0m \u001b[32m━━━━━━━━━━━━━━━━━━━━\u001b[0m\u001b[37m\u001b[0m \u001b[1m22s\u001b[0m 233ms/step - accuracy: 0.7047 - loss: 158.1566 - val_accuracy: 0.7048 - val_loss: 159.3378\n",
            "Epoch 41/100\n",
            "\u001b[1m93/93\u001b[0m \u001b[32m━━━━━━━━━━━━━━━━━━━━\u001b[0m\u001b[37m\u001b[0m \u001b[1m41s\u001b[0m 232ms/step - accuracy: 0.7034 - loss: 157.8908 - val_accuracy: 0.7068 - val_loss: 159.5113\n",
            "Epoch 42/100\n",
            "\u001b[1m93/93\u001b[0m \u001b[32m━━━━━━━━━━━━━━━━━━━━\u001b[0m\u001b[37m\u001b[0m \u001b[1m22s\u001b[0m 236ms/step - accuracy: 0.7045 - loss: 159.1920 - val_accuracy: 0.7091 - val_loss: 159.3628\n",
            "Epoch 43/100\n",
            "\u001b[1m93/93\u001b[0m \u001b[32m━━━━━━━━━━━━━━━━━━━━\u001b[0m\u001b[37m\u001b[0m \u001b[1m41s\u001b[0m 234ms/step - accuracy: 0.7046 - loss: 159.1694 - val_accuracy: 0.7124 - val_loss: 159.1582\n",
            "Epoch 44/100\n",
            "\u001b[1m93/93\u001b[0m \u001b[32m━━━━━━━━━━━━━━━━━━━━\u001b[0m\u001b[37m\u001b[0m \u001b[1m22s\u001b[0m 237ms/step - accuracy: 0.7023 - loss: 158.7994 - val_accuracy: 0.7128 - val_loss: 159.9985\n",
            "Epoch 45/100\n",
            "\u001b[1m93/93\u001b[0m \u001b[32m━━━━━━━━━━━━━━━━━━━━\u001b[0m\u001b[37m\u001b[0m \u001b[1m41s\u001b[0m 233ms/step - accuracy: 0.7039 - loss: 157.7162 - val_accuracy: 0.7136 - val_loss: 159.7290\n",
            "Epoch 46/100\n",
            "\u001b[1m93/93\u001b[0m \u001b[32m━━━━━━━━━━━━━━━━━━━━\u001b[0m\u001b[37m\u001b[0m \u001b[1m22s\u001b[0m 237ms/step - accuracy: 0.7031 - loss: 157.7994 - val_accuracy: 0.7134 - val_loss: 158.8500\n",
            "Epoch 47/100\n",
            "\u001b[1m93/93\u001b[0m \u001b[32m━━━━━━━━━━━━━━━━━━━━\u001b[0m\u001b[37m\u001b[0m \u001b[1m41s\u001b[0m 234ms/step - accuracy: 0.7010 - loss: 158.6244 - val_accuracy: 0.7139 - val_loss: 157.9327\n",
            "Epoch 48/100\n",
            "\u001b[1m93/93\u001b[0m \u001b[32m━━━━━━━━━━━━━━━━━━━━\u001b[0m\u001b[37m\u001b[0m \u001b[1m41s\u001b[0m 237ms/step - accuracy: 0.7036 - loss: 157.4819 - val_accuracy: 0.7137 - val_loss: 158.3661\n",
            "Epoch 49/100\n",
            "\u001b[1m93/93\u001b[0m \u001b[32m━━━━━━━━━━━━━━━━━━━━\u001b[0m\u001b[37m\u001b[0m \u001b[1m22s\u001b[0m 234ms/step - accuracy: 0.7046 - loss: 157.9093 - val_accuracy: 0.7147 - val_loss: 158.3888\n",
            "Epoch 50/100\n",
            "\u001b[1m93/93\u001b[0m \u001b[32m━━━━━━━━━━━━━━━━━━━━\u001b[0m\u001b[37m\u001b[0m \u001b[1m22s\u001b[0m 233ms/step - accuracy: 0.7031 - loss: 158.2438 - val_accuracy: 0.7136 - val_loss: 159.0304\n",
            "Epoch 51/100\n",
            "\u001b[1m93/93\u001b[0m \u001b[32m━━━━━━━━━━━━━━━━━━━━\u001b[0m\u001b[37m\u001b[0m \u001b[1m41s\u001b[0m 234ms/step - accuracy: 0.7056 - loss: 157.3776 - val_accuracy: 0.7130 - val_loss: 158.6401\n",
            "Epoch 52/100\n",
            "\u001b[1m93/93\u001b[0m \u001b[32m━━━━━━━━━━━━━━━━━━━━\u001b[0m\u001b[37m\u001b[0m \u001b[1m41s\u001b[0m 235ms/step - accuracy: 0.7030 - loss: 157.9458 - val_accuracy: 0.7130 - val_loss: 159.5203\n",
            "Epoch 53/100\n",
            "\u001b[1m93/93\u001b[0m \u001b[32m━━━━━━━━━━━━━━━━━━━━\u001b[0m\u001b[37m\u001b[0m \u001b[1m22s\u001b[0m 236ms/step - accuracy: 0.7035 - loss: 158.0519 - val_accuracy: 0.7134 - val_loss: 159.7071\n",
            "Epoch 54/100\n",
            "\u001b[1m93/93\u001b[0m \u001b[32m━━━━━━━━━━━━━━━━━━━━\u001b[0m\u001b[37m\u001b[0m \u001b[1m41s\u001b[0m 233ms/step - accuracy: 0.7032 - loss: 157.4610 - val_accuracy: 0.7128 - val_loss: 159.5262\n",
            "Epoch 55/100\n",
            "\u001b[1m93/93\u001b[0m \u001b[32m━━━━━━━━━━━━━━━━━━━━\u001b[0m\u001b[37m\u001b[0m \u001b[1m22s\u001b[0m 235ms/step - accuracy: 0.7057 - loss: 157.5529 - val_accuracy: 0.7129 - val_loss: 159.8058\n",
            "Epoch 56/100\n",
            "\u001b[1m93/93\u001b[0m \u001b[32m━━━━━━━━━━━━━━━━━━━━\u001b[0m\u001b[37m\u001b[0m \u001b[1m41s\u001b[0m 234ms/step - accuracy: 0.7022 - loss: 157.6416 - val_accuracy: 0.7127 - val_loss: 159.2453\n",
            "Epoch 57/100\n",
            "\u001b[1m93/93\u001b[0m \u001b[32m━━━━━━━━━━━━━━━━━━━━\u001b[0m\u001b[37m\u001b[0m \u001b[1m41s\u001b[0m 236ms/step - accuracy: 0.7056 - loss: 157.8415 - val_accuracy: 0.7124 - val_loss: 159.8967\n",
            "Epoch 58/100\n",
            "\u001b[1m93/93\u001b[0m \u001b[32m━━━━━━━━━━━━━━━━━━━━\u001b[0m\u001b[37m\u001b[0m \u001b[1m41s\u001b[0m 235ms/step - accuracy: 0.7056 - loss: 158.6938 - val_accuracy: 0.7125 - val_loss: 160.1732\n",
            "Epoch 59/100\n",
            "\u001b[1m93/93\u001b[0m \u001b[32m━━━━━━━━━━━━━━━━━━━━\u001b[0m\u001b[37m\u001b[0m \u001b[1m41s\u001b[0m 236ms/step - accuracy: 0.7075 - loss: 157.9996 - val_accuracy: 0.7122 - val_loss: 160.2633\n",
            "Epoch 60/100\n",
            "\u001b[1m93/93\u001b[0m \u001b[32m━━━━━━━━━━━━━━━━━━━━\u001b[0m\u001b[37m\u001b[0m \u001b[1m41s\u001b[0m 234ms/step - accuracy: 0.7057 - loss: 157.3333 - val_accuracy: 0.7121 - val_loss: 159.2888\n",
            "Epoch 61/100\n",
            "\u001b[1m93/93\u001b[0m \u001b[32m━━━━━━━━━━━━━━━━━━━━\u001b[0m\u001b[37m\u001b[0m \u001b[1m22s\u001b[0m 236ms/step - accuracy: 0.7035 - loss: 157.7225 - val_accuracy: 0.7114 - val_loss: 158.9537\n",
            "Epoch 62/100\n",
            "\u001b[1m93/93\u001b[0m \u001b[32m━━━━━━━━━━━━━━━━━━━━\u001b[0m\u001b[37m\u001b[0m \u001b[1m22s\u001b[0m 235ms/step - accuracy: 0.7072 - loss: 157.9969 - val_accuracy: 0.7116 - val_loss: 159.4970\n",
            "Epoch 63/100\n",
            "\u001b[1m93/93\u001b[0m \u001b[32m━━━━━━━━━━━━━━━━━━━━\u001b[0m\u001b[37m\u001b[0m \u001b[1m41s\u001b[0m 234ms/step - accuracy: 0.7011 - loss: 157.2873 - val_accuracy: 0.7115 - val_loss: 159.7085\n",
            "Epoch 64/100\n",
            "\u001b[1m93/93\u001b[0m \u001b[32m━━━━━━━━━━━━━━━━━━━━\u001b[0m\u001b[37m\u001b[0m \u001b[1m22s\u001b[0m 237ms/step - accuracy: 0.7065 - loss: 157.8771 - val_accuracy: 0.7113 - val_loss: 159.3326\n",
            "Epoch 65/100\n",
            "\u001b[1m93/93\u001b[0m \u001b[32m━━━━━━━━━━━━━━━━━━━━\u001b[0m\u001b[37m\u001b[0m \u001b[1m41s\u001b[0m 234ms/step - accuracy: 0.7038 - loss: 157.1952 - val_accuracy: 0.7112 - val_loss: 159.3676\n",
            "Epoch 66/100\n",
            "\u001b[1m93/93\u001b[0m \u001b[32m━━━━━━━━━━━━━━━━━━━━\u001b[0m\u001b[37m\u001b[0m \u001b[1m22s\u001b[0m 237ms/step - accuracy: 0.7036 - loss: 157.7530 - val_accuracy: 0.7112 - val_loss: 158.8389\n",
            "Epoch 67/100\n",
            "\u001b[1m93/93\u001b[0m \u001b[32m━━━━━━━━━━━━━━━━━━━━\u001b[0m\u001b[37m\u001b[0m \u001b[1m41s\u001b[0m 233ms/step - accuracy: 0.7046 - loss: 157.6457 - val_accuracy: 0.7109 - val_loss: 159.5433\n",
            "Epoch 68/100\n",
            "\u001b[1m93/93\u001b[0m \u001b[32m━━━━━━━━━━━━━━━━━━━━\u001b[0m\u001b[37m\u001b[0m \u001b[1m22s\u001b[0m 237ms/step - accuracy: 0.7001 - loss: 157.8960 - val_accuracy: 0.7110 - val_loss: 159.5324\n",
            "Epoch 69/100\n",
            "\u001b[1m93/93\u001b[0m \u001b[32m━━━━━━━━━━━━━━━━━━━━\u001b[0m\u001b[37m\u001b[0m \u001b[1m41s\u001b[0m 235ms/step - accuracy: 0.7048 - loss: 156.9606 - val_accuracy: 0.7111 - val_loss: 159.8060\n",
            "Epoch 70/100\n",
            "\u001b[1m93/93\u001b[0m \u001b[32m━━━━━━━━━━━━━━━━━━━━\u001b[0m\u001b[37m\u001b[0m \u001b[1m41s\u001b[0m 238ms/step - accuracy: 0.7037 - loss: 157.6509 - val_accuracy: 0.7108 - val_loss: 158.3943\n",
            "Epoch 71/100\n",
            "\u001b[1m93/93\u001b[0m \u001b[32m━━━━━━━━━━━━━━━━━━━━\u001b[0m\u001b[37m\u001b[0m \u001b[1m22s\u001b[0m 234ms/step - accuracy: 0.7058 - loss: 157.7422 - val_accuracy: 0.7109 - val_loss: 157.8111\n",
            "Epoch 72/100\n",
            "\u001b[1m93/93\u001b[0m \u001b[32m━━━━━━━━━━━━━━━━━━━━\u001b[0m\u001b[37m\u001b[0m \u001b[1m41s\u001b[0m 233ms/step - accuracy: 0.7006 - loss: 157.8799 - val_accuracy: 0.7109 - val_loss: 158.8163\n",
            "Epoch 73/100\n",
            "\u001b[1m93/93\u001b[0m \u001b[32m━━━━━━━━━━━━━━━━━━━━\u001b[0m\u001b[37m\u001b[0m \u001b[1m41s\u001b[0m 238ms/step - accuracy: 0.7062 - loss: 156.9265 - val_accuracy: 0.7108 - val_loss: 158.9940\n",
            "Epoch 74/100\n",
            "\u001b[1m93/93\u001b[0m \u001b[32m━━━━━━━━━━━━━━━━━━━━\u001b[0m\u001b[37m\u001b[0m \u001b[1m41s\u001b[0m 234ms/step - accuracy: 0.7049 - loss: 157.5546 - val_accuracy: 0.7107 - val_loss: 159.2212\n",
            "Epoch 75/100\n",
            "\u001b[1m93/93\u001b[0m \u001b[32m━━━━━━━━━━━━━━━━━━━━\u001b[0m\u001b[37m\u001b[0m \u001b[1m41s\u001b[0m 236ms/step - accuracy: 0.7014 - loss: 157.6419 - val_accuracy: 0.7106 - val_loss: 160.0496\n",
            "Epoch 76/100\n",
            "\u001b[1m93/93\u001b[0m \u001b[32m━━━━━━━━━━━━━━━━━━━━\u001b[0m\u001b[37m\u001b[0m \u001b[1m41s\u001b[0m 234ms/step - accuracy: 0.7001 - loss: 157.0545 - val_accuracy: 0.7105 - val_loss: 159.4213\n",
            "Epoch 77/100\n",
            "\u001b[1m93/93\u001b[0m \u001b[32m━━━━━━━━━━━━━━━━━━━━\u001b[0m\u001b[37m\u001b[0m \u001b[1m41s\u001b[0m 236ms/step - accuracy: 0.7037 - loss: 157.9493 - val_accuracy: 0.7103 - val_loss: 158.3623\n",
            "Epoch 78/100\n",
            "\u001b[1m93/93\u001b[0m \u001b[32m━━━━━━━━━━━━━━━━━━━━\u001b[0m\u001b[37m\u001b[0m \u001b[1m22s\u001b[0m 234ms/step - accuracy: 0.7019 - loss: 157.4779 - val_accuracy: 0.7102 - val_loss: 158.1269\n",
            "Epoch 79/100\n",
            "\u001b[1m93/93\u001b[0m \u001b[32m━━━━━━━━━━━━━━━━━━━━\u001b[0m\u001b[37m\u001b[0m \u001b[1m22s\u001b[0m 235ms/step - accuracy: 0.7001 - loss: 157.5272 - val_accuracy: 0.7101 - val_loss: 157.6887\n",
            "Epoch 80/100\n",
            "\u001b[1m93/93\u001b[0m \u001b[32m━━━━━━━━━━━━━━━━━━━━\u001b[0m\u001b[37m\u001b[0m \u001b[1m22s\u001b[0m 235ms/step - accuracy: 0.7043 - loss: 157.1944 - val_accuracy: 0.7101 - val_loss: 158.3105\n",
            "Epoch 81/100\n",
            "\u001b[1m93/93\u001b[0m \u001b[32m━━━━━━━━━━━━━━━━━━━━\u001b[0m\u001b[37m\u001b[0m \u001b[1m41s\u001b[0m 235ms/step - accuracy: 0.7063 - loss: 157.0843 - val_accuracy: 0.7103 - val_loss: 158.1469\n",
            "Epoch 82/100\n",
            "\u001b[1m93/93\u001b[0m \u001b[32m━━━━━━━━━━━━━━━━━━━━\u001b[0m\u001b[37m\u001b[0m \u001b[1m22s\u001b[0m 236ms/step - accuracy: 0.7044 - loss: 158.1686 - val_accuracy: 0.7104 - val_loss: 158.3992\n",
            "Epoch 83/100\n",
            "\u001b[1m93/93\u001b[0m \u001b[32m━━━━━━━━━━━━━━━━━━━━\u001b[0m\u001b[37m\u001b[0m \u001b[1m41s\u001b[0m 233ms/step - accuracy: 0.7052 - loss: 158.2496 - val_accuracy: 0.7101 - val_loss: 158.6199\n",
            "Epoch 84/100\n",
            "\u001b[1m93/93\u001b[0m \u001b[32m━━━━━━━━━━━━━━━━━━━━\u001b[0m\u001b[37m\u001b[0m \u001b[1m41s\u001b[0m 237ms/step - accuracy: 0.7044 - loss: 157.7469 - val_accuracy: 0.7102 - val_loss: 158.7668\n",
            "Epoch 85/100\n",
            "\u001b[1m93/93\u001b[0m \u001b[32m━━━━━━━━━━━━━━━━━━━━\u001b[0m\u001b[37m\u001b[0m \u001b[1m41s\u001b[0m 235ms/step - accuracy: 0.7056 - loss: 158.3606 - val_accuracy: 0.7104 - val_loss: 158.7918\n",
            "Epoch 86/100\n",
            "\u001b[1m93/93\u001b[0m \u001b[32m━━━━━━━━━━━━━━━━━━━━\u001b[0m\u001b[37m\u001b[0m \u001b[1m41s\u001b[0m 234ms/step - accuracy: 0.7026 - loss: 157.1961 - val_accuracy: 0.7101 - val_loss: 159.2142\n",
            "Epoch 87/100\n",
            "\u001b[1m93/93\u001b[0m \u001b[32m━━━━━━━━━━━━━━━━━━━━\u001b[0m\u001b[37m\u001b[0m \u001b[1m22s\u001b[0m 235ms/step - accuracy: 0.7034 - loss: 157.0323 - val_accuracy: 0.7097 - val_loss: 159.5315\n",
            "Epoch 88/100\n",
            "\u001b[1m93/93\u001b[0m \u001b[32m━━━━━━━━━━━━━━━━━━━━\u001b[0m\u001b[37m\u001b[0m \u001b[1m41s\u001b[0m 233ms/step - accuracy: 0.7029 - loss: 157.8248 - val_accuracy: 0.7101 - val_loss: 159.4058\n",
            "Epoch 89/100\n",
            "\u001b[1m93/93\u001b[0m \u001b[32m━━━━━━━━━━━━━━━━━━━━\u001b[0m\u001b[37m\u001b[0m \u001b[1m41s\u001b[0m 237ms/step - accuracy: 0.7027 - loss: 158.2874 - val_accuracy: 0.7099 - val_loss: 159.5739\n",
            "Epoch 90/100\n",
            "\u001b[1m93/93\u001b[0m \u001b[32m━━━━━━━━━━━━━━━━━━━━\u001b[0m\u001b[37m\u001b[0m \u001b[1m41s\u001b[0m 234ms/step - accuracy: 0.7001 - loss: 157.6796 - val_accuracy: 0.7102 - val_loss: 159.0031\n",
            "Epoch 91/100\n",
            "\u001b[1m93/93\u001b[0m \u001b[32m━━━━━━━━━━━━━━━━━━━━\u001b[0m\u001b[37m\u001b[0m \u001b[1m41s\u001b[0m 236ms/step - accuracy: 0.7077 - loss: 156.9733 - val_accuracy: 0.7100 - val_loss: 159.5159\n",
            "Epoch 92/100\n",
            "\u001b[1m93/93\u001b[0m \u001b[32m━━━━━━━━━━━━━━━━━━━━\u001b[0m\u001b[37m\u001b[0m \u001b[1m41s\u001b[0m 235ms/step - accuracy: 0.7050 - loss: 157.4245 - val_accuracy: 0.7103 - val_loss: 158.7455\n",
            "Epoch 93/100\n",
            "\u001b[1m93/93\u001b[0m \u001b[32m━━━━━━━━━━━━━━━━━━━━\u001b[0m\u001b[37m\u001b[0m \u001b[1m22s\u001b[0m 236ms/step - accuracy: 0.7031 - loss: 157.4198 - val_accuracy: 0.7099 - val_loss: 158.3827\n",
            "Epoch 94/100\n",
            "\u001b[1m93/93\u001b[0m \u001b[32m━━━━━━━━━━━━━━━━━━━━\u001b[0m\u001b[37m\u001b[0m \u001b[1m22s\u001b[0m 236ms/step - accuracy: 0.7037 - loss: 157.8259 - val_accuracy: 0.7097 - val_loss: 158.4153\n",
            "Epoch 95/100\n",
            "\u001b[1m93/93\u001b[0m \u001b[32m━━━━━━━━━━━━━━━━━━━━\u001b[0m\u001b[37m\u001b[0m \u001b[1m41s\u001b[0m 233ms/step - accuracy: 0.7055 - loss: 157.4957 - val_accuracy: 0.7101 - val_loss: 158.7938\n",
            "Epoch 96/100\n",
            "\u001b[1m93/93\u001b[0m \u001b[32m━━━━━━━━━━━━━━━━━━━━\u001b[0m\u001b[37m\u001b[0m \u001b[1m41s\u001b[0m 238ms/step - accuracy: 0.7016 - loss: 157.8586 - val_accuracy: 0.7101 - val_loss: 159.0078\n",
            "Epoch 97/100\n",
            "\u001b[1m93/93\u001b[0m \u001b[32m━━━━━━━━━━━━━━━━━━━━\u001b[0m\u001b[37m\u001b[0m \u001b[1m41s\u001b[0m 235ms/step - accuracy: 0.7046 - loss: 157.4855 - val_accuracy: 0.7100 - val_loss: 159.0943\n",
            "Epoch 98/100\n",
            "\u001b[1m93/93\u001b[0m \u001b[32m━━━━━━━━━━━━━━━━━━━━\u001b[0m\u001b[37m\u001b[0m \u001b[1m41s\u001b[0m 240ms/step - accuracy: 0.7058 - loss: 157.5208 - val_accuracy: 0.7099 - val_loss: 158.7564\n",
            "Epoch 99/100\n",
            "\u001b[1m93/93\u001b[0m \u001b[32m━━━━━━━━━━━━━━━━━━━━\u001b[0m\u001b[37m\u001b[0m \u001b[1m41s\u001b[0m 235ms/step - accuracy: 0.7013 - loss: 157.0707 - val_accuracy: 0.7101 - val_loss: 158.9512\n",
            "Epoch 100/100\n",
            "\u001b[1m93/93\u001b[0m \u001b[32m━━━━━━━━━━━━━━━━━━━━\u001b[0m\u001b[37m\u001b[0m \u001b[1m22s\u001b[0m 237ms/step - accuracy: 0.7029 - loss: 157.5835 - val_accuracy: 0.7102 - val_loss: 158.5990\n"
          ]
        }
      ],
      "source": [
        "def run_experiment(epochs):\n",
        "  with tf.device('/gpu:0'):\n",
        "      segmentation_model = get_shape_segmentation_model(num_points, num_classes)\n",
        "      segmentation_model.compile(\n",
        "          optimizer=keras.optimizers.Adam(learning_rate=lr_schedule),\n",
        "          loss=keras.losses.CategoricalCrossentropy(),\n",
        "          metrics=[\"accuracy\"],\n",
        "      )\n",
        "\n",
        "      checkpoint_filepath = \"checkpoint.weights.h5\"\n",
        "      checkpoint_callback = keras.callbacks.ModelCheckpoint(\n",
        "          checkpoint_filepath,\n",
        "          monitor=\"val_loss\",\n",
        "          save_best_only=True,\n",
        "          save_weights_only=True,\n",
        "      )\n",
        "\n",
        "      history = segmentation_model.fit(\n",
        "          train_dataset,\n",
        "          validation_data=val_dataset,\n",
        "          epochs=epochs,\n",
        "          callbacks=[checkpoint_callback],\n",
        "      )\n",
        "\n",
        "      segmentation_model.load_weights(checkpoint_filepath)\n",
        "      return segmentation_model, history\n",
        "\n",
        "\n",
        "segmentation_model, history = run_experiment(epochs=EPOCHS)"
      ]
    },
    {
      "cell_type": "code",
      "execution_count": null,
      "metadata": {
        "colab": {
          "base_uri": "https://localhost:8080/",
          "height": 929
        },
        "id": "vb1SD4xuO01l",
        "outputId": "0933b529-167f-4300-db26-5d4f971e58fb"
      },
      "outputs": [
        {
          "data": {
            "image/png": "[encoded data removed]",
            "text/plain": [
              "<Figure size 640x480 with 1 Axes>"
            ]
          },
          "metadata": {},
          "output_type": "display_data"
        },
        {
          "data": {
            "image/png": "[encoded data removed]",
            "text/plain": [
              "<Figure size 640x480 with 1 Axes>"
            ]
          },
          "metadata": {},
          "output_type": "display_data"
        }
      ],
      "source": [
        "def plot_result(item):\n",
        "    plt.plot(history.history[item], label=item)\n",
        "    plt.plot(history.history[\"val_\" + item], label=\"val_\" + item)\n",
        "    plt.xlabel(\"Epochs\")\n",
        "    plt.ylabel(item)\n",
        "    plt.title(\"Train and Validation {} Over Epochs\".format(item), fontsize=14)\n",
        "    plt.legend()\n",
        "    plt.grid()\n",
        "    plt.show()\n",
        "\n",
        "\n",
        "plot_result(\"loss\")\n",
        "plot_result(\"accuracy\")"
      ]
    },
    {
      "cell_type": "code",
      "execution_count": 1,
      "metadata": {
        "colab": {
          "base_uri": "https://localhost:8080/",
          "height": 245
        },
        "id": "ai3UOuEhO4_m",
        "outputId": "3a8d525a-09b1-41d0-d5b3-716a3d1b12ec"
      },
      "outputs": [
        {
          "ename": "NameError",
          "evalue": "ignored",
          "output_type": "error",
          "traceback": [
            "\u001b[0;31m---------------------------------------------------------------------------\u001b[0m",
            "\u001b[0;31mNameError\u001b[0m                                 Traceback (most recent call last)",
            "\u001b[0;32m<ipython-input-1-16a02a9db284>\u001b[0m in \u001b[0;36m<cell line: 1>\u001b[0;34m()\u001b[0m\n\u001b[0;32m----> 1\u001b[0;31m \u001b[0mvalidation_batch\u001b[0m \u001b[0;34m=\u001b[0m \u001b[0mnext\u001b[0m\u001b[0;34m(\u001b[0m\u001b[0miter\u001b[0m\u001b[0;34m(\u001b[0m\u001b[0mval_dataset\u001b[0m\u001b[0;34m)\u001b[0m\u001b[0;34m)\u001b[0m\u001b[0;34m\u001b[0m\u001b[0;34m\u001b[0m\u001b[0m\n\u001b[0m\u001b[1;32m      2\u001b[0m \u001b[0mval_predictions\u001b[0m \u001b[0;34m=\u001b[0m \u001b[0msegmentation_model\u001b[0m\u001b[0;34m.\u001b[0m\u001b[0mpredict\u001b[0m\u001b[0;34m(\u001b[0m\u001b[0mvalidation_batch\u001b[0m\u001b[0;34m[\u001b[0m\u001b[0;36m0\u001b[0m\u001b[0;34m]\u001b[0m\u001b[0;34m)\u001b[0m\u001b[0;34m\u001b[0m\u001b[0;34m\u001b[0m\u001b[0m\n\u001b[1;32m      3\u001b[0m \u001b[0mprint\u001b[0m\u001b[0;34m(\u001b[0m\u001b[0;34mf\"Validation prediction shape: {val_predictions.shape}\"\u001b[0m\u001b[0;34m)\u001b[0m\u001b[0;34m\u001b[0m\u001b[0;34m\u001b[0m\u001b[0m\n\u001b[1;32m      4\u001b[0m \u001b[0;34m\u001b[0m\u001b[0m\n\u001b[1;32m      5\u001b[0m \u001b[0;34m\u001b[0m\u001b[0m\n",
            "\u001b[0;31mNameError\u001b[0m: name 'val_dataset' is not defined"
          ]
        }
      ],
      "source": [
        "validation_batch = next(iter(val_dataset))\n",
        "val_predictions = segmentation_model.predict(validation_batch[0])\n",
        "print(f\"Validation prediction shape: {val_predictions.shape}\")\n",
        "\n",
        "\n",
        "def visualize_single_point_cloud(point_clouds, label_clouds, idx):\n",
        "    label_map = LABELS + [\"none\"]\n",
        "    point_cloud = point_clouds[idx]\n",
        "    label_cloud = label_clouds[idx]\n",
        "    visualize_data(point_cloud, [label_map[np.argmax(label)] for label in label_cloud])\n",
        "\n",
        "\n",
        "idx = np.random.choice(len(validation_batch[0]))\n",
        "print(f\"Index selected: {idx}\")\n",
        "\n",
        "# Plotting with ground-truth.\n",
        "visualize_single_point_cloud(validation_batch[0], validation_batch[1], idx)\n",
        "\n",
        "# Plotting with predicted labels.\n",
        "visualize_single_point_cloud(validation_batch[0], val_predictions, idx)"
      ]
    },
    {
      "cell_type": "code",
      "execution_count": null,
      "metadata": {
        "id": "8Qe40ZIkPA0w"
      },
      "outputs": [],
      "source": []
    }
  ],
  "metadata": {
    "accelerator": "GPU",
    "colab": {
      "gpuType": "T4",
      "provenance": []
    },
    "kernelspec": {
      "display_name": "Python 3",
      "name": "python3"
    },
    "language_info": {
      "name": "python"
    }
  },
  "nbformat": 4,
  "nbformat_minor": 0
}
